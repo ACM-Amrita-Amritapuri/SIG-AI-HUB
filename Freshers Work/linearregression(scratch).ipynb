{
  "nbformat": 4,
  "nbformat_minor": 0,
  "metadata": {
    "colab": {
      "provenance": [],
      "authorship_tag": "ABX9TyOTvb9Cz9TTIkS9kSHzs4DG",
      "include_colab_link": true
    },
    "kernelspec": {
      "name": "python3",
      "display_name": "Python 3"
    },
    "language_info": {
      "name": "python"
    }
  },
  "cells": [
    {
      "cell_type": "markdown",
      "metadata": {
        "id": "view-in-github",
        "colab_type": "text"
      },
      "source": [
        "<a href=\"https://colab.research.google.com/github/Amrutha-Tsavatapalli/SIG-AI-HUB/blob/main/linearregression(scratch).ipynb\" target=\"_parent\"><img src=\"https://colab.research.google.com/assets/colab-badge.svg\" alt=\"Open In Colab\"/></a>"
      ]
    },
    {
      "cell_type": "code",
      "source": [
        "!pip install -q kaggle"
      ],
      "metadata": {
        "id": "kJOvq1praLzG"
      },
      "execution_count": null,
      "outputs": []
    },
    {
      "cell_type": "code",
      "execution_count": null,
      "metadata": {
        "colab": {
          "base_uri": "https://localhost:8080/",
          "height": 92
        },
        "id": "tP_u5m_WZlrL",
        "outputId": "bb003554-eaa4-462d-8be3-8202bffd66f5"
      },
      "outputs": [
        {
          "output_type": "display_data",
          "data": {
            "text/plain": [
              "<IPython.core.display.HTML object>"
            ],
            "text/html": [
              "\n",
              "     <input type=\"file\" id=\"files-b674ae84-fa58-41a9-a436-2d41ab2cc8f3\" name=\"files[]\" multiple disabled\n",
              "        style=\"border:none\" />\n",
              "     <output id=\"result-b674ae84-fa58-41a9-a436-2d41ab2cc8f3\">\n",
              "      Upload widget is only available when the cell has been executed in the\n",
              "      current browser session. Please rerun this cell to enable.\n",
              "      </output>\n",
              "      <script>// Copyright 2017 Google LLC\n",
              "//\n",
              "// Licensed under the Apache License, Version 2.0 (the \"License\");\n",
              "// you may not use this file except in compliance with the License.\n",
              "// You may obtain a copy of the License at\n",
              "//\n",
              "//      http://www.apache.org/licenses/LICENSE-2.0\n",
              "//\n",
              "// Unless required by applicable law or agreed to in writing, software\n",
              "// distributed under the License is distributed on an \"AS IS\" BASIS,\n",
              "// WITHOUT WARRANTIES OR CONDITIONS OF ANY KIND, either express or implied.\n",
              "// See the License for the specific language governing permissions and\n",
              "// limitations under the License.\n",
              "\n",
              "/**\n",
              " * @fileoverview Helpers for google.colab Python module.\n",
              " */\n",
              "(function(scope) {\n",
              "function span(text, styleAttributes = {}) {\n",
              "  const element = document.createElement('span');\n",
              "  element.textContent = text;\n",
              "  for (const key of Object.keys(styleAttributes)) {\n",
              "    element.style[key] = styleAttributes[key];\n",
              "  }\n",
              "  return element;\n",
              "}\n",
              "\n",
              "// Max number of bytes which will be uploaded at a time.\n",
              "const MAX_PAYLOAD_SIZE = 100 * 1024;\n",
              "\n",
              "function _uploadFiles(inputId, outputId) {\n",
              "  const steps = uploadFilesStep(inputId, outputId);\n",
              "  const outputElement = document.getElementById(outputId);\n",
              "  // Cache steps on the outputElement to make it available for the next call\n",
              "  // to uploadFilesContinue from Python.\n",
              "  outputElement.steps = steps;\n",
              "\n",
              "  return _uploadFilesContinue(outputId);\n",
              "}\n",
              "\n",
              "// This is roughly an async generator (not supported in the browser yet),\n",
              "// where there are multiple asynchronous steps and the Python side is going\n",
              "// to poll for completion of each step.\n",
              "// This uses a Promise to block the python side on completion of each step,\n",
              "// then passes the result of the previous step as the input to the next step.\n",
              "function _uploadFilesContinue(outputId) {\n",
              "  const outputElement = document.getElementById(outputId);\n",
              "  const steps = outputElement.steps;\n",
              "\n",
              "  const next = steps.next(outputElement.lastPromiseValue);\n",
              "  return Promise.resolve(next.value.promise).then((value) => {\n",
              "    // Cache the last promise value to make it available to the next\n",
              "    // step of the generator.\n",
              "    outputElement.lastPromiseValue = value;\n",
              "    return next.value.response;\n",
              "  });\n",
              "}\n",
              "\n",
              "/**\n",
              " * Generator function which is called between each async step of the upload\n",
              " * process.\n",
              " * @param {string} inputId Element ID of the input file picker element.\n",
              " * @param {string} outputId Element ID of the output display.\n",
              " * @return {!Iterable<!Object>} Iterable of next steps.\n",
              " */\n",
              "function* uploadFilesStep(inputId, outputId) {\n",
              "  const inputElement = document.getElementById(inputId);\n",
              "  inputElement.disabled = false;\n",
              "\n",
              "  const outputElement = document.getElementById(outputId);\n",
              "  outputElement.innerHTML = '';\n",
              "\n",
              "  const pickedPromise = new Promise((resolve) => {\n",
              "    inputElement.addEventListener('change', (e) => {\n",
              "      resolve(e.target.files);\n",
              "    });\n",
              "  });\n",
              "\n",
              "  const cancel = document.createElement('button');\n",
              "  inputElement.parentElement.appendChild(cancel);\n",
              "  cancel.textContent = 'Cancel upload';\n",
              "  const cancelPromise = new Promise((resolve) => {\n",
              "    cancel.onclick = () => {\n",
              "      resolve(null);\n",
              "    };\n",
              "  });\n",
              "\n",
              "  // Wait for the user to pick the files.\n",
              "  const files = yield {\n",
              "    promise: Promise.race([pickedPromise, cancelPromise]),\n",
              "    response: {\n",
              "      action: 'starting',\n",
              "    }\n",
              "  };\n",
              "\n",
              "  cancel.remove();\n",
              "\n",
              "  // Disable the input element since further picks are not allowed.\n",
              "  inputElement.disabled = true;\n",
              "\n",
              "  if (!files) {\n",
              "    return {\n",
              "      response: {\n",
              "        action: 'complete',\n",
              "      }\n",
              "    };\n",
              "  }\n",
              "\n",
              "  for (const file of files) {\n",
              "    const li = document.createElement('li');\n",
              "    li.append(span(file.name, {fontWeight: 'bold'}));\n",
              "    li.append(span(\n",
              "        `(${file.type || 'n/a'}) - ${file.size} bytes, ` +\n",
              "        `last modified: ${\n",
              "            file.lastModifiedDate ? file.lastModifiedDate.toLocaleDateString() :\n",
              "                                    'n/a'} - `));\n",
              "    const percent = span('0% done');\n",
              "    li.appendChild(percent);\n",
              "\n",
              "    outputElement.appendChild(li);\n",
              "\n",
              "    const fileDataPromise = new Promise((resolve) => {\n",
              "      const reader = new FileReader();\n",
              "      reader.onload = (e) => {\n",
              "        resolve(e.target.result);\n",
              "      };\n",
              "      reader.readAsArrayBuffer(file);\n",
              "    });\n",
              "    // Wait for the data to be ready.\n",
              "    let fileData = yield {\n",
              "      promise: fileDataPromise,\n",
              "      response: {\n",
              "        action: 'continue',\n",
              "      }\n",
              "    };\n",
              "\n",
              "    // Use a chunked sending to avoid message size limits. See b/62115660.\n",
              "    let position = 0;\n",
              "    do {\n",
              "      const length = Math.min(fileData.byteLength - position, MAX_PAYLOAD_SIZE);\n",
              "      const chunk = new Uint8Array(fileData, position, length);\n",
              "      position += length;\n",
              "\n",
              "      const base64 = btoa(String.fromCharCode.apply(null, chunk));\n",
              "      yield {\n",
              "        response: {\n",
              "          action: 'append',\n",
              "          file: file.name,\n",
              "          data: base64,\n",
              "        },\n",
              "      };\n",
              "\n",
              "      let percentDone = fileData.byteLength === 0 ?\n",
              "          100 :\n",
              "          Math.round((position / fileData.byteLength) * 100);\n",
              "      percent.textContent = `${percentDone}% done`;\n",
              "\n",
              "    } while (position < fileData.byteLength);\n",
              "  }\n",
              "\n",
              "  // All done.\n",
              "  yield {\n",
              "    response: {\n",
              "      action: 'complete',\n",
              "    }\n",
              "  };\n",
              "}\n",
              "\n",
              "scope.google = scope.google || {};\n",
              "scope.google.colab = scope.google.colab || {};\n",
              "scope.google.colab._files = {\n",
              "  _uploadFiles,\n",
              "  _uploadFilesContinue,\n",
              "};\n",
              "})(self);\n",
              "</script> "
            ]
          },
          "metadata": {}
        },
        {
          "output_type": "stream",
          "name": "stdout",
          "text": [
            "Saving kaggle (2).json to kaggle (2).json\n"
          ]
        },
        {
          "output_type": "execute_result",
          "data": {
            "text/plain": [
              "{'kaggle (2).json': b'{\"username\":\"kesavamruthalakshmi\",\"key\":\"6e6a9ef173acd20a4725d98dc1743990\"}'}"
            ]
          },
          "metadata": {},
          "execution_count": 1
        }
      ],
      "source": [
        "from google.colab import files\n",
        "files.upload()\n"
      ]
    },
    {
      "cell_type": "code",
      "source": [
        "\n",
        "import os\n",
        "os.listdir()\n"
      ],
      "metadata": {
        "colab": {
          "base_uri": "https://localhost:8080/"
        },
        "id": "g_clctyQaHJA",
        "outputId": "b9ca7ba4-4b6c-4444-fc6f-366eea3a6893"
      },
      "execution_count": null,
      "outputs": [
        {
          "output_type": "execute_result",
          "data": {
            "text/plain": [
              "['.config', 'kaggle (2).json', 'sample_data']"
            ]
          },
          "metadata": {},
          "execution_count": 4
        }
      ]
    },
    {
      "cell_type": "code",
      "source": [
        "os.makedirs('/root/.kaggle', exist_ok=True)\n"
      ],
      "metadata": {
        "id": "Sqk5wJvdbcQ7"
      },
      "execution_count": null,
      "outputs": []
    },
    {
      "cell_type": "code",
      "source": [
        "import shutil\n",
        "\n",
        "# Move and rename the file\n",
        "shutil.move('kaggle (2).json', '/root/.kaggle/kaggle.json')\n"
      ],
      "metadata": {
        "colab": {
          "base_uri": "https://localhost:8080/",
          "height": 36
        },
        "id": "X1kFUDmIblx4",
        "outputId": "06cd6566-3c64-4c7e-98a7-e3442e3ad76e"
      },
      "execution_count": null,
      "outputs": [
        {
          "output_type": "execute_result",
          "data": {
            "text/plain": [
              "'/root/.kaggle/kaggle.json'"
            ],
            "application/vnd.google.colaboratory.intrinsic+json": {
              "type": "string"
            }
          },
          "metadata": {},
          "execution_count": 6
        }
      ]
    },
    {
      "cell_type": "code",
      "source": [
        "!chmod 600 /root/.kaggle/kaggle.json\n"
      ],
      "metadata": {
        "id": "uqp290u5bo_P"
      },
      "execution_count": null,
      "outputs": []
    },
    {
      "cell_type": "code",
      "source": [
        "import os\n",
        "path = \"/root/.cache/kagglehub/datasets/shree1992/housedata/versions/2\"\n",
        "print(os.listdir(path))\n"
      ],
      "metadata": {
        "colab": {
          "base_uri": "https://localhost:8080/"
        },
        "id": "bzDdePWGcl4z",
        "outputId": "d53fdb82-d099-4918-ae14-da5e815db8e7"
      },
      "execution_count": null,
      "outputs": [
        {
          "output_type": "stream",
          "name": "stdout",
          "text": [
            "['data.csv', 'data.dat', 'output.csv']\n"
          ]
        }
      ]
    },
    {
      "cell_type": "code",
      "source": [
        "import pandas as pd\n",
        "file_path = os.path.join(path, \"data.csv\")\n",
        "data = pd.read_csv(file_path)\n",
        "print(data.head())\n"
      ],
      "metadata": {
        "colab": {
          "base_uri": "https://localhost:8080/"
        },
        "id": "f3Ahk6TIcnpP",
        "outputId": "d0e7a736-ce70-42c7-9561-75190dc383bd"
      },
      "execution_count": null,
      "outputs": [
        {
          "output_type": "stream",
          "name": "stdout",
          "text": [
            "                  date      price  bedrooms  bathrooms  sqft_living  sqft_lot  \\\n",
            "0  2014-05-02 00:00:00   313000.0       3.0       1.50         1340      7912   \n",
            "1  2014-05-02 00:00:00  2384000.0       5.0       2.50         3650      9050   \n",
            "2  2014-05-02 00:00:00   342000.0       3.0       2.00         1930     11947   \n",
            "3  2014-05-02 00:00:00   420000.0       3.0       2.25         2000      8030   \n",
            "4  2014-05-02 00:00:00   550000.0       4.0       2.50         1940     10500   \n",
            "\n",
            "   floors  waterfront  view  condition  sqft_above  sqft_basement  yr_built  \\\n",
            "0     1.5           0     0          3        1340              0      1955   \n",
            "1     2.0           0     4          5        3370            280      1921   \n",
            "2     1.0           0     0          4        1930              0      1966   \n",
            "3     1.0           0     0          4        1000           1000      1963   \n",
            "4     1.0           0     0          4        1140            800      1976   \n",
            "\n",
            "   yr_renovated                    street       city  statezip country  \n",
            "0          2005      18810 Densmore Ave N  Shoreline  WA 98133     USA  \n",
            "1             0           709 W Blaine St    Seattle  WA 98119     USA  \n",
            "2             0  26206-26214 143rd Ave SE       Kent  WA 98042     USA  \n",
            "3             0           857 170th Pl NE   Bellevue  WA 98008     USA  \n",
            "4          1992         9105 170th Ave NE    Redmond  WA 98052     USA  \n"
          ]
        }
      ]
    },
    {
      "cell_type": "code",
      "source": [
        "from google.colab import files\n",
        "uploaded = files.upload()\n"
      ],
      "metadata": {
        "colab": {
          "base_uri": "https://localhost:8080/",
          "height": 74
        },
        "id": "jMFUEEpvd4b0",
        "outputId": "4dc296f2-cedd-4c59-aa56-acb00876f6fd"
      },
      "execution_count": null,
      "outputs": [
        {
          "output_type": "display_data",
          "data": {
            "text/plain": [
              "<IPython.core.display.HTML object>"
            ],
            "text/html": [
              "\n",
              "     <input type=\"file\" id=\"files-ce40d149-db38-4a18-ac1a-a14913e47e0e\" name=\"files[]\" multiple disabled\n",
              "        style=\"border:none\" />\n",
              "     <output id=\"result-ce40d149-db38-4a18-ac1a-a14913e47e0e\">\n",
              "      Upload widget is only available when the cell has been executed in the\n",
              "      current browser session. Please rerun this cell to enable.\n",
              "      </output>\n",
              "      <script>// Copyright 2017 Google LLC\n",
              "//\n",
              "// Licensed under the Apache License, Version 2.0 (the \"License\");\n",
              "// you may not use this file except in compliance with the License.\n",
              "// You may obtain a copy of the License at\n",
              "//\n",
              "//      http://www.apache.org/licenses/LICENSE-2.0\n",
              "//\n",
              "// Unless required by applicable law or agreed to in writing, software\n",
              "// distributed under the License is distributed on an \"AS IS\" BASIS,\n",
              "// WITHOUT WARRANTIES OR CONDITIONS OF ANY KIND, either express or implied.\n",
              "// See the License for the specific language governing permissions and\n",
              "// limitations under the License.\n",
              "\n",
              "/**\n",
              " * @fileoverview Helpers for google.colab Python module.\n",
              " */\n",
              "(function(scope) {\n",
              "function span(text, styleAttributes = {}) {\n",
              "  const element = document.createElement('span');\n",
              "  element.textContent = text;\n",
              "  for (const key of Object.keys(styleAttributes)) {\n",
              "    element.style[key] = styleAttributes[key];\n",
              "  }\n",
              "  return element;\n",
              "}\n",
              "\n",
              "// Max number of bytes which will be uploaded at a time.\n",
              "const MAX_PAYLOAD_SIZE = 100 * 1024;\n",
              "\n",
              "function _uploadFiles(inputId, outputId) {\n",
              "  const steps = uploadFilesStep(inputId, outputId);\n",
              "  const outputElement = document.getElementById(outputId);\n",
              "  // Cache steps on the outputElement to make it available for the next call\n",
              "  // to uploadFilesContinue from Python.\n",
              "  outputElement.steps = steps;\n",
              "\n",
              "  return _uploadFilesContinue(outputId);\n",
              "}\n",
              "\n",
              "// This is roughly an async generator (not supported in the browser yet),\n",
              "// where there are multiple asynchronous steps and the Python side is going\n",
              "// to poll for completion of each step.\n",
              "// This uses a Promise to block the python side on completion of each step,\n",
              "// then passes the result of the previous step as the input to the next step.\n",
              "function _uploadFilesContinue(outputId) {\n",
              "  const outputElement = document.getElementById(outputId);\n",
              "  const steps = outputElement.steps;\n",
              "\n",
              "  const next = steps.next(outputElement.lastPromiseValue);\n",
              "  return Promise.resolve(next.value.promise).then((value) => {\n",
              "    // Cache the last promise value to make it available to the next\n",
              "    // step of the generator.\n",
              "    outputElement.lastPromiseValue = value;\n",
              "    return next.value.response;\n",
              "  });\n",
              "}\n",
              "\n",
              "/**\n",
              " * Generator function which is called between each async step of the upload\n",
              " * process.\n",
              " * @param {string} inputId Element ID of the input file picker element.\n",
              " * @param {string} outputId Element ID of the output display.\n",
              " * @return {!Iterable<!Object>} Iterable of next steps.\n",
              " */\n",
              "function* uploadFilesStep(inputId, outputId) {\n",
              "  const inputElement = document.getElementById(inputId);\n",
              "  inputElement.disabled = false;\n",
              "\n",
              "  const outputElement = document.getElementById(outputId);\n",
              "  outputElement.innerHTML = '';\n",
              "\n",
              "  const pickedPromise = new Promise((resolve) => {\n",
              "    inputElement.addEventListener('change', (e) => {\n",
              "      resolve(e.target.files);\n",
              "    });\n",
              "  });\n",
              "\n",
              "  const cancel = document.createElement('button');\n",
              "  inputElement.parentElement.appendChild(cancel);\n",
              "  cancel.textContent = 'Cancel upload';\n",
              "  const cancelPromise = new Promise((resolve) => {\n",
              "    cancel.onclick = () => {\n",
              "      resolve(null);\n",
              "    };\n",
              "  });\n",
              "\n",
              "  // Wait for the user to pick the files.\n",
              "  const files = yield {\n",
              "    promise: Promise.race([pickedPromise, cancelPromise]),\n",
              "    response: {\n",
              "      action: 'starting',\n",
              "    }\n",
              "  };\n",
              "\n",
              "  cancel.remove();\n",
              "\n",
              "  // Disable the input element since further picks are not allowed.\n",
              "  inputElement.disabled = true;\n",
              "\n",
              "  if (!files) {\n",
              "    return {\n",
              "      response: {\n",
              "        action: 'complete',\n",
              "      }\n",
              "    };\n",
              "  }\n",
              "\n",
              "  for (const file of files) {\n",
              "    const li = document.createElement('li');\n",
              "    li.append(span(file.name, {fontWeight: 'bold'}));\n",
              "    li.append(span(\n",
              "        `(${file.type || 'n/a'}) - ${file.size} bytes, ` +\n",
              "        `last modified: ${\n",
              "            file.lastModifiedDate ? file.lastModifiedDate.toLocaleDateString() :\n",
              "                                    'n/a'} - `));\n",
              "    const percent = span('0% done');\n",
              "    li.appendChild(percent);\n",
              "\n",
              "    outputElement.appendChild(li);\n",
              "\n",
              "    const fileDataPromise = new Promise((resolve) => {\n",
              "      const reader = new FileReader();\n",
              "      reader.onload = (e) => {\n",
              "        resolve(e.target.result);\n",
              "      };\n",
              "      reader.readAsArrayBuffer(file);\n",
              "    });\n",
              "    // Wait for the data to be ready.\n",
              "    let fileData = yield {\n",
              "      promise: fileDataPromise,\n",
              "      response: {\n",
              "        action: 'continue',\n",
              "      }\n",
              "    };\n",
              "\n",
              "    // Use a chunked sending to avoid message size limits. See b/62115660.\n",
              "    let position = 0;\n",
              "    do {\n",
              "      const length = Math.min(fileData.byteLength - position, MAX_PAYLOAD_SIZE);\n",
              "      const chunk = new Uint8Array(fileData, position, length);\n",
              "      position += length;\n",
              "\n",
              "      const base64 = btoa(String.fromCharCode.apply(null, chunk));\n",
              "      yield {\n",
              "        response: {\n",
              "          action: 'append',\n",
              "          file: file.name,\n",
              "          data: base64,\n",
              "        },\n",
              "      };\n",
              "\n",
              "      let percentDone = fileData.byteLength === 0 ?\n",
              "          100 :\n",
              "          Math.round((position / fileData.byteLength) * 100);\n",
              "      percent.textContent = `${percentDone}% done`;\n",
              "\n",
              "    } while (position < fileData.byteLength);\n",
              "  }\n",
              "\n",
              "  // All done.\n",
              "  yield {\n",
              "    response: {\n",
              "      action: 'complete',\n",
              "    }\n",
              "  };\n",
              "}\n",
              "\n",
              "scope.google = scope.google || {};\n",
              "scope.google.colab = scope.google.colab || {};\n",
              "scope.google.colab._files = {\n",
              "  _uploadFiles,\n",
              "  _uploadFilesContinue,\n",
              "};\n",
              "})(self);\n",
              "</script> "
            ]
          },
          "metadata": {}
        },
        {
          "output_type": "stream",
          "name": "stdout",
          "text": [
            "Saving archive (2).zip to archive (2).zip\n"
          ]
        }
      ]
    },
    {
      "cell_type": "code",
      "source": [
        "import zipfile\n",
        "with zipfile.ZipFile('archive (2).zip', 'r') as zip_ref:\n",
        "    zip_ref.extractall('house_prices')\n",
        "import os\n",
        "print(os.listdir('house_prices'))\n"
      ],
      "metadata": {
        "colab": {
          "base_uri": "https://localhost:8080/"
        },
        "id": "UAKNouB_d8NM",
        "outputId": "0e0d773b-60fb-4bec-f76c-f8c7a83d57a8"
      },
      "execution_count": null,
      "outputs": [
        {
          "output_type": "stream",
          "name": "stdout",
          "text": [
            "['data.csv', 'data.dat', 'output.csv']\n"
          ]
        }
      ]
    },
    {
      "cell_type": "code",
      "source": [
        "import os\n",
        "print(\"Files in current directory:\", os.listdir())\n",
        "print(\"Files in 'house_prices' folder:\", os.listdir('house_prices'))\n"
      ],
      "metadata": {
        "colab": {
          "base_uri": "https://localhost:8080/"
        },
        "id": "PPzZA3cueeUh",
        "outputId": "93834631-494d-4aaa-93cb-6af72c3e0edf"
      },
      "execution_count": null,
      "outputs": [
        {
          "output_type": "stream",
          "name": "stdout",
          "text": [
            "Files in current directory: ['.config', 'house_prices', 'archive (2).zip', 'sample_data']\n",
            "Files in 'house_prices' folder: ['data.csv', 'data.dat', 'output.csv']\n"
          ]
        }
      ]
    },
    {
      "cell_type": "code",
      "source": [
        "import pandas as pd\n",
        "data = pd.read_csv('house_prices/data.csv')\n",
        "print(data.head())\n"
      ],
      "metadata": {
        "colab": {
          "base_uri": "https://localhost:8080/"
        },
        "id": "Ix9NvcdKenqE",
        "outputId": "0fd48008-611b-4729-cf79-4b0e9fe36e1e"
      },
      "execution_count": null,
      "outputs": [
        {
          "output_type": "stream",
          "name": "stdout",
          "text": [
            "                  date      price  bedrooms  bathrooms  sqft_living  sqft_lot  \\\n",
            "0  2014-05-02 00:00:00   313000.0       3.0       1.50         1340      7912   \n",
            "1  2014-05-02 00:00:00  2384000.0       5.0       2.50         3650      9050   \n",
            "2  2014-05-02 00:00:00   342000.0       3.0       2.00         1930     11947   \n",
            "3  2014-05-02 00:00:00   420000.0       3.0       2.25         2000      8030   \n",
            "4  2014-05-02 00:00:00   550000.0       4.0       2.50         1940     10500   \n",
            "\n",
            "   floors  waterfront  view  condition  sqft_above  sqft_basement  yr_built  \\\n",
            "0     1.5           0     0          3        1340              0      1955   \n",
            "1     2.0           0     4          5        3370            280      1921   \n",
            "2     1.0           0     0          4        1930              0      1966   \n",
            "3     1.0           0     0          4        1000           1000      1963   \n",
            "4     1.0           0     0          4        1140            800      1976   \n",
            "\n",
            "   yr_renovated                    street       city  statezip country  \n",
            "0          2005      18810 Densmore Ave N  Shoreline  WA 98133     USA  \n",
            "1             0           709 W Blaine St    Seattle  WA 98119     USA  \n",
            "2             0  26206-26214 143rd Ave SE       Kent  WA 98042     USA  \n",
            "3             0           857 170th Pl NE   Bellevue  WA 98008     USA  \n",
            "4          1992         9105 170th Ave NE    Redmond  WA 98052     USA  \n"
          ]
        }
      ]
    },
    {
      "cell_type": "code",
      "source": [
        "# Filling missing values for numeric columns with the median\n",
        "numeric_columns = data.select_dtypes(include=['float64', 'int64']).columns\n",
        "data[numeric_columns] = data[numeric_columns].fillna(data[numeric_columns].median())\n",
        "# Filling missing values for categorical columns with the mode\n",
        "categorical_columns = data.select_dtypes(include=['object']).columns\n",
        "for col in categorical_columns:\n",
        "    mode_value = data[col].mode()[0]  # Getting the mode (most frequent value)\n",
        "    data[col] = data[col].fillna(mode_value)\n",
        "print(data.head())\n",
        "print(data.tail())\n",
        "\n"
      ],
      "metadata": {
        "colab": {
          "base_uri": "https://localhost:8080/"
        },
        "id": "uSsR30gBgGlZ",
        "outputId": "9f585895-8583-4239-b178-6dae92951d60"
      },
      "execution_count": null,
      "outputs": [
        {
          "output_type": "stream",
          "name": "stdout",
          "text": [
            "                  date      price  bedrooms  bathrooms  sqft_living  sqft_lot  \\\n",
            "0  2014-05-02 00:00:00   313000.0       3.0       1.50         1340      7912   \n",
            "1  2014-05-02 00:00:00  2384000.0       5.0       2.50         3650      9050   \n",
            "2  2014-05-02 00:00:00   342000.0       3.0       2.00         1930     11947   \n",
            "3  2014-05-02 00:00:00   420000.0       3.0       2.25         2000      8030   \n",
            "4  2014-05-02 00:00:00   550000.0       4.0       2.50         1940     10500   \n",
            "\n",
            "   floors  waterfront  view  condition  sqft_above  sqft_basement  yr_built  \\\n",
            "0     1.5           0     0          3        1340              0      1955   \n",
            "1     2.0           0     4          5        3370            280      1921   \n",
            "2     1.0           0     0          4        1930              0      1966   \n",
            "3     1.0           0     0          4        1000           1000      1963   \n",
            "4     1.0           0     0          4        1140            800      1976   \n",
            "\n",
            "   yr_renovated                    street       city  statezip country  \n",
            "0          2005      18810 Densmore Ave N  Shoreline  WA 98133     USA  \n",
            "1             0           709 W Blaine St    Seattle  WA 98119     USA  \n",
            "2             0  26206-26214 143rd Ave SE       Kent  WA 98042     USA  \n",
            "3             0           857 170th Pl NE   Bellevue  WA 98008     USA  \n",
            "4          1992         9105 170th Ave NE    Redmond  WA 98052     USA  \n",
            "                     date          price  bedrooms  bathrooms  sqft_living  \\\n",
            "4595  2014-07-09 00:00:00  308166.666667       3.0       1.75         1510   \n",
            "4596  2014-07-09 00:00:00  534333.333333       3.0       2.50         1460   \n",
            "4597  2014-07-09 00:00:00  416904.166667       3.0       2.50         3010   \n",
            "4598  2014-07-10 00:00:00  203400.000000       4.0       2.00         2090   \n",
            "4599  2014-07-10 00:00:00  220600.000000       3.0       2.50         1490   \n",
            "\n",
            "      sqft_lot  floors  waterfront  view  condition  sqft_above  \\\n",
            "4595      6360     1.0           0     0          4        1510   \n",
            "4596      7573     2.0           0     0          3        1460   \n",
            "4597      7014     2.0           0     0          3        3010   \n",
            "4598      6630     1.0           0     0          3        1070   \n",
            "4599      8102     2.0           0     0          4        1490   \n",
            "\n",
            "      sqft_basement  yr_built  yr_renovated             street       city  \\\n",
            "4595              0      1954          1979     501 N 143rd St    Seattle   \n",
            "4596              0      1983          2009   14855 SE 10th Pl   Bellevue   \n",
            "4597              0      2009             0   759 Ilwaco Pl NE     Renton   \n",
            "4598           1020      1974             0  5148 S Creston St    Seattle   \n",
            "4599              0      1990             0  18717 SE 258th St  Covington   \n",
            "\n",
            "      statezip country  \n",
            "4595  WA 98133     USA  \n",
            "4596  WA 98007     USA  \n",
            "4597  WA 98059     USA  \n",
            "4598  WA 98178     USA  \n",
            "4599  WA 98042     USA  \n"
          ]
        }
      ]
    },
    {
      "cell_type": "code",
      "source": [
        "# Checking for duplicates\n",
        "duplicates = data.duplicated().sum()\n",
        "data.drop_duplicates(inplace=True)\n",
        "print(f\"Number of duplicate rows: {duplicates}\")\n"
      ],
      "metadata": {
        "colab": {
          "base_uri": "https://localhost:8080/"
        },
        "id": "roR8WMtzgNHe",
        "outputId": "d029ba16-50dc-4d02-c313-907afde69038"
      },
      "execution_count": null,
      "outputs": [
        {
          "output_type": "stream",
          "name": "stdout",
          "text": [
            "Number of duplicate rows: 0\n"
          ]
        }
      ]
    },
    {
      "cell_type": "code",
      "source": [
        "# One-hot encode_-- categorical variables\n",
        "data = pd.get_dummies(data, drop_first=True)\n",
        "print(data.head())\n"
      ],
      "metadata": {
        "colab": {
          "base_uri": "https://localhost:8080/"
        },
        "id": "gmSqZ7oehDij",
        "outputId": "460685fb-3b5a-4986-ad47-dc1cf914146e"
      },
      "execution_count": null,
      "outputs": [
        {
          "output_type": "stream",
          "name": "stdout",
          "text": [
            "       price  bedrooms  bathrooms  sqft_living  sqft_lot  floors  waterfront  \\\n",
            "0   313000.0       3.0       1.50         1340      7912     1.5           0   \n",
            "1  2384000.0       5.0       2.50         3650      9050     2.0           0   \n",
            "2   342000.0       3.0       2.00         1930     11947     1.0           0   \n",
            "3   420000.0       3.0       2.25         2000      8030     1.0           0   \n",
            "4   550000.0       4.0       2.50         1940     10500     1.0           0   \n",
            "\n",
            "   view  condition  sqft_above  ...  statezip_WA 98155  statezip_WA 98166  \\\n",
            "0     0          3        1340  ...              False              False   \n",
            "1     4          5        3370  ...              False              False   \n",
            "2     0          4        1930  ...              False              False   \n",
            "3     0          4        1000  ...              False              False   \n",
            "4     0          4        1140  ...              False              False   \n",
            "\n",
            "   statezip_WA 98168  statezip_WA 98177  statezip_WA 98178  statezip_WA 98188  \\\n",
            "0              False              False              False              False   \n",
            "1              False              False              False              False   \n",
            "2              False              False              False              False   \n",
            "3              False              False              False              False   \n",
            "4              False              False              False              False   \n",
            "\n",
            "   statezip_WA 98198  statezip_WA 98199  statezip_WA 98288  statezip_WA 98354  \n",
            "0              False              False              False              False  \n",
            "1              False              False              False              False  \n",
            "2              False              False              False              False  \n",
            "3              False              False              False              False  \n",
            "4              False              False              False              False  \n",
            "\n",
            "[5 rows x 4725 columns]\n"
          ]
        }
      ]
    },
    {
      "cell_type": "code",
      "source": [
        "\n",
        "from sklearn.preprocessing import StandardScaler\n",
        "scaler = StandardScaler()\n",
        "data_scaled = scaler.fit_transform(data)\n",
        "print(data_scaled)"
      ],
      "metadata": {
        "colab": {
          "base_uri": "https://localhost:8080/"
        },
        "id": "m_w_G778h2x5",
        "outputId": "f1168b10-d449-45f0-f3cc-1869ab514eee"
      },
      "execution_count": null,
      "outputs": [
        {
          "output_type": "stream",
          "name": "stdout",
          "text": [
            "[[-0.42386353 -0.44112227 -0.84320364 ... -0.1224925  -0.02554603\n",
            "  -0.02085598]\n",
            " [ 3.2495981   1.75970468  0.43280154 ... -0.1224925  -0.02554603\n",
            "  -0.02085598]\n",
            " [-0.37242442 -0.44112227 -0.20520105 ... -0.1224925  -0.02554603\n",
            "  -0.02085598]\n",
            " ...\n",
            " [-0.23956224 -0.44112227  0.43280154 ... -0.1224925  -0.02554603\n",
            "  -0.02085598]\n",
            " [-0.61826787  0.6592912  -0.20520105 ... -0.1224925  -0.02554603\n",
            "  -0.02085598]\n",
            " [-0.58775916 -0.44112227  0.43280154 ... -0.1224925  -0.02554603\n",
            "  -0.02085598]]\n"
          ]
        }
      ]
    },
    {
      "cell_type": "code",
      "source": [
        "#  Training dataset-Testing dataset Split\n",
        "from sklearn.model_selection import train_test_split\n",
        "X = data_scaled[:, :-1]\n",
        "y = data_scaled[:, -1]\n",
        "X_train, X_test, y_train, y_test = train_test_split(X, y, test_size=0.2, random_state=42)"
      ],
      "metadata": {
        "id": "VBtYB2uYiOTV"
      },
      "execution_count": null,
      "outputs": []
    },
    {
      "cell_type": "code",
      "source": [
        "class LinearRegressionScratch:\n",
        "    def __init__(self, learning_rate=0.01, iterations=1000):\n",
        "        self.learning_rate = learning_rate\n",
        "        self.iterations = iterations\n",
        "    def fit(self, X, y):\n",
        "        self.m, self.n = X.shape\n",
        "        self.weights = np.zeros(self.n)\n",
        "        self.bias = 0\n",
        "        for _ in range(self.iterations):\n",
        "            y_pred = np.dot(X, self.weights) + self.bias\n",
        "            dw = (1 / self.m) * np.dot(X.T, (y_pred - y))\n",
        "            db = (1 / self.m) * np.sum(y_pred - y)\n",
        "            self.weights -= self.learning_rate * dw\n",
        "            self.bias -= self.learning_rate * db\n",
        "\n",
        "    def predict(self, X):\n",
        "        return np.dot(X, self.weights) + self.bias"
      ],
      "metadata": {
        "id": "PfqLSWawiWAg"
      },
      "execution_count": null,
      "outputs": []
    },
    {
      "cell_type": "code",
      "source": [
        "import numpy as np\n",
        "import pandas as pd\n",
        "import matplotlib.pyplot as plt\n",
        "import seaborn as sns\n",
        "from sklearn.model_selection import train_test_split\n",
        "from sklearn.preprocessing import StandardScaler"
      ],
      "metadata": {
        "id": "nbI1OoSblHM0"
      },
      "execution_count": null,
      "outputs": []
    },
    {
      "cell_type": "code",
      "source": [
        "model = LinearRegressionScratch(learning_rate=0.01, iterations=1000)\n",
        "model.fit(X_train, y_train)\n",
        "y_pred = model.predict(X_test)\n",
        "mae = np.mean(np.abs(y_pred - y_test))\n",
        "rmse = np.sqrt(np.mean((y_pred - y_test)**2))\n",
        "r2_score = 1 - (np.sum((y_test - y_pred)**2) / np.sum((y_test - np.mean(y_test))**2))\n",
        "\n",
        "print(f\"MAE: {mae}, RMSE: {rmse}, R^2: {r2_score}\")"
      ],
      "metadata": {
        "colab": {
          "base_uri": "https://localhost:8080/"
        },
        "id": "4uWefwtklnm9",
        "outputId": "a4325a5f-03cb-4324-9e58-8f2124572539"
      },
      "execution_count": null,
      "outputs": [
        {
          "output_type": "stream",
          "name": "stdout",
          "text": [
            "MAE: 0.014012086512359577, RMSE: 0.025724217204037204, R^2: -5.497482212696163e+31\n"
          ]
        }
      ]
    },
    {
      "cell_type": "code",
      "source": [
        "\n",
        "plt.scatter(y_test, y_pred)\n",
        "plt.xlabel(\"Actual\")\n",
        "plt.ylabel(\"Predicted\")\n",
        "plt.title(\"Actual vs Predicted\")\n",
        "plt.show()"
      ],
      "metadata": {
        "colab": {
          "base_uri": "https://localhost:8080/",
          "height": 472
        },
        "id": "x9g5CFpZpnXj",
        "outputId": "ab895190-721b-4949-f32f-ef8e6a6e60ee"
      },
      "execution_count": null,
      "outputs": [
        {
          "output_type": "display_data",
          "data": {
            "text/plain": [
              "<Figure size 640x480 with 1 Axes>"
            ],
            "image/png": "[encoded data removed]"
          },
          "metadata": {}
        }
      ]
    },
    {
      "cell_type": "code",
      "source": [
        "import numpy as np\n",
        "import matplotlib.pyplot as plt\n",
        "#  Actual vs Predicted\n",
        "plt.figure(figsize=(8, 6))\n",
        "# Plot-- Actual values in blue\n",
        "plt.scatter(y_test, y_pred, c='blue', label='Predicted', alpha=0.5)\n",
        "# Plot-- Predicted values in red\n",
        "plt.scatter(y_test, y_test, c='red', label='Actual', alpha=0.5)\n",
        "plt.xlabel(\"Actual\")\n",
        "plt.ylabel(\"Predicted\")\n",
        "plt.title(\"Actual vs Predicted\")\n",
        "plt.legend()\n",
        "plt.show()\n"
      ],
      "metadata": {
        "colab": {
          "base_uri": "https://localhost:8080/",
          "height": 564
        },
        "id": "-MBxORxVp3dp",
        "outputId": "de634248-638f-4d6f-9d2b-32c3c3b8876c"
      },
      "execution_count": null,
      "outputs": [
        {
          "output_type": "display_data",
          "data": {
            "text/plain": [
              "<Figure size 800x600 with 1 Axes>"
            ],
            "image/png": "[encoded data removed]"
          },
          "metadata": {}
        }
      ]
    }
  ]
}
