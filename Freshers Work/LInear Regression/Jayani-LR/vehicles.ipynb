{
 "cells": [
  {
   "cell_type": "markdown",
   "metadata": {},
   "source": [
    "### Importing Necessary libraries and loading the dataset into a dataframe named 'vehicles_df'"
   ]
  },
  {
   "cell_type": "code",
   "execution_count": 60,
   "metadata": {},
   "outputs": [],
   "source": [
    "import pandas as pd\n",
    "vehicles = pd.read_csv('Vehicles.csv')\n",
    "vehicles_df = pd.DataFrame(vehicles)"
   ]
  },
  {
   "cell_type": "markdown",
   "metadata": {},
   "source": [
    "### Inspecting the data wsing .head(), .info() etc"
   ]
  },
  {
   "cell_type": "code",
   "execution_count": 61,
   "metadata": {},
   "outputs": [
    {
     "name": "stdout",
     "output_type": "stream",
     "text": [
      "                       name  year  selling_price  km_driven    fuel  \\\n",
      "0             Maruti 800 AC  2007          60000      70000  Petrol   \n",
      "1  Maruti Wagon R LXI Minor  2007         135000      50000  Petrol   \n",
      "2      Hyundai Verna 1.6 SX  2012         600000     100000  Diesel   \n",
      "3    Datsun RediGO T Option  2017         250000      46000  Petrol   \n",
      "4     Honda Amaze VX i-DTEC  2014         450000     141000  Diesel   \n",
      "\n",
      "  seller_type transmission         owner  \n",
      "0  Individual       Manual   First Owner  \n",
      "1  Individual       Manual   First Owner  \n",
      "2  Individual       Manual   First Owner  \n",
      "3  Individual       Manual   First Owner  \n",
      "4  Individual       Manual  Second Owner  \n"
     ]
    }
   ],
   "source": [
    "print(vehicles_df.head())"
   ]
  },
  {
   "cell_type": "code",
   "execution_count": 62,
   "metadata": {},
   "outputs": [
    {
     "name": "stdout",
     "output_type": "stream",
     "text": [
      "name             object\n",
      "year              int64\n",
      "selling_price     int64\n",
      "km_driven         int64\n",
      "fuel             object\n",
      "seller_type      object\n",
      "transmission     object\n",
      "owner            object\n",
      "dtype: object\n"
     ]
    }
   ],
   "source": [
    "print(vehicles_df.dtypes)"
   ]
  },
  {
   "cell_type": "code",
   "execution_count": 63,
   "metadata": {},
   "outputs": [
    {
     "name": "stdout",
     "output_type": "stream",
     "text": [
      "<class 'pandas.core.frame.DataFrame'>\n",
      "RangeIndex: 4340 entries, 0 to 4339\n",
      "Data columns (total 8 columns):\n",
      " #   Column         Non-Null Count  Dtype \n",
      "---  ------         --------------  ----- \n",
      " 0   name           4340 non-null   object\n",
      " 1   year           4340 non-null   int64 \n",
      " 2   selling_price  4340 non-null   int64 \n",
      " 3   km_driven      4340 non-null   int64 \n",
      " 4   fuel           4340 non-null   object\n",
      " 5   seller_type    4340 non-null   object\n",
      " 6   transmission   4340 non-null   object\n",
      " 7   owner          4340 non-null   object\n",
      "dtypes: int64(3), object(5)\n",
      "memory usage: 271.4+ KB\n",
      "None\n"
     ]
    }
   ],
   "source": [
    "print(vehicles_df.info())"
   ]
  },
  {
   "cell_type": "markdown",
   "metadata": {},
   "source": [
    "### Exploring the data"
   ]
  },
  {
   "cell_type": "code",
   "execution_count": 64,
   "metadata": {},
   "outputs": [
    {
     "name": "stdout",
     "output_type": "stream",
     "text": [
      "Rows:  4340 Columns:  8\n"
     ]
    }
   ],
   "source": [
    "rows, columns = vehicles_df.shape\n",
    "print(\"Rows: \", rows, \"Columns: \", columns)"
   ]
  },
  {
   "cell_type": "code",
   "execution_count": 65,
   "metadata": {},
   "outputs": [
    {
     "name": "stdout",
     "output_type": "stream",
     "text": [
      "Unique values in the \"owner\" column:  ['First Owner' 'Second Owner' 'Fourth & Above Owner' 'Third Owner'\n",
      " 'Test Drive Car']\n"
     ]
    }
   ],
   "source": [
    "unique_owners = vehicles_df['owner'].unique()\n",
    "print('Unique values in the \"owner\" column: ', unique_owners)"
   ]
  },
  {
   "cell_type": "code",
   "execution_count": 66,
   "metadata": {},
   "outputs": [
    {
     "name": "stdout",
     "output_type": "stream",
     "text": [
      "Mean of the Selling price: 504127.3117511521 \n",
      "Maximum Selling price: 8900000 \n",
      "Minimum Selling price: 20000\n"
     ]
    }
   ],
   "source": [
    "price_mean = vehicles_df['selling_price'].mean()\n",
    "price_max = vehicles_df['selling_price'].max()\n",
    "price_min = vehicles_df['selling_price'].min()\n",
    "print(f\"Mean of the Selling price: {price_mean} \\nMaximum Selling price: {price_max} \\nMinimum Selling price: {price_min}\")"
   ]
  },
  {
   "cell_type": "markdown",
   "metadata": {},
   "source": [
    "### Filtering the Data"
   ]
  },
  {
   "cell_type": "markdown",
   "metadata": {},
   "source": [
    "##### Vehicles Data on the year 2007"
   ]
  },
  {
   "cell_type": "code",
   "execution_count": 67,
   "metadata": {},
   "outputs": [
    {
     "name": "stdout",
     "output_type": "stream",
     "text": [
      "                        name  year  selling_price  km_driven    fuel  \\\n",
      "0              Maruti 800 AC  2007          60000      70000  Petrol   \n",
      "1   Maruti Wagon R LXI Minor  2007         135000      50000  Petrol   \n",
      "5       Maruti Alto LX BSIII  2007         140000     125000  Petrol   \n",
      "13             Maruti 800 AC  2007          60000      70000  Petrol   \n",
      "14  Maruti Wagon R LXI Minor  2007         135000      50000  Petrol   \n",
      "\n",
      "   seller_type transmission        owner  \n",
      "0   Individual       Manual  First Owner  \n",
      "1   Individual       Manual  First Owner  \n",
      "5   Individual       Manual  First Owner  \n",
      "13  Individual       Manual  First Owner  \n",
      "14  Individual       Manual  First Owner  \n"
     ]
    }
   ],
   "source": [
    "year_2007 = vehicles_df[vehicles_df['year'] == 2007]\n",
    "print(year_2007.head())"
   ]
  },
  {
   "cell_type": "markdown",
   "metadata": {},
   "source": [
    "##### Vehicles Data where year is 2007 and selling price is greater than 5000000"
   ]
  },
  {
   "cell_type": "code",
   "execution_count": 68,
   "metadata": {},
   "outputs": [
    {
     "name": "stdout",
     "output_type": "stream",
     "text": [
      "Data on the year 2007 and where the selling price is above 50 lakhs: \n",
      "                                            name  year  selling_price  \\\n",
      "1813  Mercedes-Benz New C-Class 200 CDI Classic  2007         699000   \n",
      "2511                  Mitsubishi Montero 3.2 MT  2007         750000   \n",
      "2983                        Tata New Safari 4X2  2007         550000   \n",
      "3612              Mercedes-Benz E-Class 280 CDI  2007         900000   \n",
      "4005                        Tata New Safari 4X2  2007         550000   \n",
      "\n",
      "      km_driven    fuel seller_type transmission         owner  \n",
      "1813     101849  Diesel      Dealer       Manual  Second Owner  \n",
      "2511     180000  Diesel  Individual       Manual   First Owner  \n",
      "2983      80000  Petrol  Individual       Manual  Second Owner  \n",
      "3612      76731  Diesel      Dealer    Automatic   First Owner  \n",
      "4005      80000  Petrol  Individual       Manual  Second Owner  \n"
     ]
    }
   ],
   "source": [
    "yr_07_sp_50l = vehicles_df[(vehicles_df['year'] == 2007) & (vehicles_df['selling_price'] >= 500000)]\n",
    "print(\"Data on the year 2007 and where the selling price is above 50 lakhs: \\n\", yr_07_sp_50l)"
   ]
  },
  {
   "cell_type": "markdown",
   "metadata": {},
   "source": [
    "##### Data Manipulation"
   ]
  },
  {
   "cell_type": "markdown",
   "metadata": {},
   "source": [
    "###### Using .rename() and renaming km_driven to kilometers_driven"
   ]
  },
  {
   "cell_type": "code",
   "execution_count": 69,
   "metadata": {},
   "outputs": [
    {
     "name": "stdout",
     "output_type": "stream",
     "text": [
      "                       name  year  selling_price  kilometers_driven    fuel  \\\n",
      "0             Maruti 800 AC  2007          60000              70000  Petrol   \n",
      "1  Maruti Wagon R LXI Minor  2007         135000              50000  Petrol   \n",
      "2      Hyundai Verna 1.6 SX  2012         600000             100000  Diesel   \n",
      "3    Datsun RediGO T Option  2017         250000              46000  Petrol   \n",
      "4     Honda Amaze VX i-DTEC  2014         450000             141000  Diesel   \n",
      "\n",
      "  seller_type transmission         owner  \n",
      "0  Individual       Manual   First Owner  \n",
      "1  Individual       Manual   First Owner  \n",
      "2  Individual       Manual   First Owner  \n",
      "3  Individual       Manual   First Owner  \n",
      "4  Individual       Manual  Second Owner  \n"
     ]
    }
   ],
   "source": [
    "vehicles_df.rename(columns= {'km_driven' : 'kilometers_driven'}, inplace = True)\n",
    "print(vehicles_df.head())"
   ]
  },
  {
   "cell_type": "markdown",
   "metadata": {},
   "source": [
    "##### Sorting the data in ascending order in terms of kilometers_driven"
   ]
  },
  {
   "cell_type": "code",
   "execution_count": 70,
   "metadata": {},
   "outputs": [
    {
     "name": "stdout",
     "output_type": "stream",
     "text": [
      "                                             name  year  selling_price  \\\n",
      "1312                           Mahindra Quanto C6  2014         250000   \n",
      "1714               Ford Freestyle Titanium Diesel  2020         784000   \n",
      "1716            Ford Ecosport 1.5 Diesel Titanium  2020        1000000   \n",
      "1715                           Ford Figo Titanium  2020         635000   \n",
      "2236               Renault Duster 85PS Diesel RxL  2013         450000   \n",
      "...                                           ...   ...            ...   \n",
      "2394          Toyota Innova 2.5 V Diesel 8-seater  2009         350000   \n",
      "3679  Toyota Innova 2.5 G (Diesel) 7 Seater BS IV  2006         400000   \n",
      "525             Maruti SX4 S Cross DDiS 320 Delta  2016         665000   \n",
      "4184            Maruti SX4 S Cross DDiS 320 Delta  2016         665000   \n",
      "1243                       Maruti Swift VXI BSIII  2009         250000   \n",
      "\n",
      "      kilometers_driven    fuel seller_type transmission           owner  \n",
      "1312                  1  Diesel  Individual       Manual    Second Owner  \n",
      "1714                101  Diesel      Dealer       Manual  Test Drive Car  \n",
      "1716                101  Diesel      Dealer       Manual  Test Drive Car  \n",
      "1715                101  Petrol      Dealer       Manual  Test Drive Car  \n",
      "2236               1000  Diesel      Dealer       Manual    Second Owner  \n",
      "...                 ...     ...         ...          ...             ...  \n",
      "2394             350000  Diesel  Individual       Manual     First Owner  \n",
      "3679             400000  Diesel  Individual       Manual     Third Owner  \n",
      "525              560000  Diesel      Dealer       Manual     First Owner  \n",
      "4184             560000  Diesel      Dealer       Manual     First Owner  \n",
      "1243             806599  Petrol      Dealer       Manual     First Owner  \n",
      "\n",
      "[4340 rows x 8 columns]\n"
     ]
    }
   ],
   "source": [
    "print(vehicles_df.sort_values('kilometers_driven'))"
   ]
  },
  {
   "cell_type": "markdown",
   "metadata": {},
   "source": [
    "##### Changing the object data types by using pandas (OHE) and ordinal encoding"
   ]
  },
  {
   "cell_type": "code",
   "execution_count": 78,
   "metadata": {},
   "outputs": [
    {
     "data": {
      "text/html": [
       "<div>\n",
       "<style scoped>\n",
       "    .dataframe tbody tr th:only-of-type {\n",
       "        vertical-align: middle;\n",
       "    }\n",
       "\n",
       "    .dataframe tbody tr th {\n",
       "        vertical-align: top;\n",
       "    }\n",
       "\n",
       "    .dataframe thead th {\n",
       "        text-align: right;\n",
       "    }\n",
       "</style>\n",
       "<table border=\"1\" class=\"dataframe\">\n",
       "  <thead>\n",
       "    <tr style=\"text-align: right;\">\n",
       "      <th></th>\n",
       "      <th>name</th>\n",
       "      <th>year</th>\n",
       "      <th>selling_price</th>\n",
       "      <th>kilometers_driven</th>\n",
       "      <th>fuel</th>\n",
       "      <th>seller_type</th>\n",
       "      <th>transmission</th>\n",
       "      <th>owner</th>\n",
       "      <th>fuel_encoded</th>\n",
       "      <th>sellertype_encoded</th>\n",
       "      <th>owner_encoded</th>\n",
       "    </tr>\n",
       "  </thead>\n",
       "  <tbody>\n",
       "    <tr>\n",
       "      <th>0</th>\n",
       "      <td>Maruti 800 AC</td>\n",
       "      <td>2007</td>\n",
       "      <td>60000</td>\n",
       "      <td>70000</td>\n",
       "      <td>Petrol</td>\n",
       "      <td>Individual</td>\n",
       "      <td>Manual</td>\n",
       "      <td>First Owner</td>\n",
       "      <td>0.0</td>\n",
       "      <td>1.0</td>\n",
       "      <td>0.0</td>\n",
       "    </tr>\n",
       "    <tr>\n",
       "      <th>1</th>\n",
       "      <td>Maruti Wagon R LXI Minor</td>\n",
       "      <td>2007</td>\n",
       "      <td>135000</td>\n",
       "      <td>50000</td>\n",
       "      <td>Petrol</td>\n",
       "      <td>Individual</td>\n",
       "      <td>Manual</td>\n",
       "      <td>First Owner</td>\n",
       "      <td>0.0</td>\n",
       "      <td>1.0</td>\n",
       "      <td>0.0</td>\n",
       "    </tr>\n",
       "    <tr>\n",
       "      <th>2</th>\n",
       "      <td>Hyundai Verna 1.6 SX</td>\n",
       "      <td>2012</td>\n",
       "      <td>600000</td>\n",
       "      <td>100000</td>\n",
       "      <td>Diesel</td>\n",
       "      <td>Individual</td>\n",
       "      <td>Manual</td>\n",
       "      <td>First Owner</td>\n",
       "      <td>1.0</td>\n",
       "      <td>1.0</td>\n",
       "      <td>0.0</td>\n",
       "    </tr>\n",
       "    <tr>\n",
       "      <th>3</th>\n",
       "      <td>Datsun RediGO T Option</td>\n",
       "      <td>2017</td>\n",
       "      <td>250000</td>\n",
       "      <td>46000</td>\n",
       "      <td>Petrol</td>\n",
       "      <td>Individual</td>\n",
       "      <td>Manual</td>\n",
       "      <td>First Owner</td>\n",
       "      <td>0.0</td>\n",
       "      <td>1.0</td>\n",
       "      <td>0.0</td>\n",
       "    </tr>\n",
       "    <tr>\n",
       "      <th>4</th>\n",
       "      <td>Honda Amaze VX i-DTEC</td>\n",
       "      <td>2014</td>\n",
       "      <td>450000</td>\n",
       "      <td>141000</td>\n",
       "      <td>Diesel</td>\n",
       "      <td>Individual</td>\n",
       "      <td>Manual</td>\n",
       "      <td>Second Owner</td>\n",
       "      <td>1.0</td>\n",
       "      <td>1.0</td>\n",
       "      <td>1.0</td>\n",
       "    </tr>\n",
       "  </tbody>\n",
       "</table>\n",
       "</div>"
      ],
      "text/plain": [
       "                       name  year  selling_price  kilometers_driven    fuel  \\\n",
       "0             Maruti 800 AC  2007          60000              70000  Petrol   \n",
       "1  Maruti Wagon R LXI Minor  2007         135000              50000  Petrol   \n",
       "2      Hyundai Verna 1.6 SX  2012         600000             100000  Diesel   \n",
       "3    Datsun RediGO T Option  2017         250000              46000  Petrol   \n",
       "4     Honda Amaze VX i-DTEC  2014         450000             141000  Diesel   \n",
       "\n",
       "  seller_type transmission         owner  fuel_encoded  sellertype_encoded  \\\n",
       "0  Individual       Manual   First Owner           0.0                 1.0   \n",
       "1  Individual       Manual   First Owner           0.0                 1.0   \n",
       "2  Individual       Manual   First Owner           1.0                 1.0   \n",
       "3  Individual       Manual   First Owner           0.0                 1.0   \n",
       "4  Individual       Manual  Second Owner           1.0                 1.0   \n",
       "\n",
       "   owner_encoded  \n",
       "0            0.0  \n",
       "1            0.0  \n",
       "2            0.0  \n",
       "3            0.0  \n",
       "4            1.0  "
      ]
     },
     "execution_count": 78,
     "metadata": {},
     "output_type": "execute_result"
    }
   ],
   "source": [
    "from sklearn.preprocessing import OrdinalEncoder\n",
    "encoder = OrdinalEncoder(categories = [['Petrol','Diesel','Electric','LPG','CNG']])\n",
    "vehicles_df['fuel_encoded'] = encoder.fit_transform(vehicles_df[['fuel']])\n",
    "enc = OrdinalEncoder(categories=[['Dealer','Individual','Trustmark Dealer']])\n",
    "vehicles_df['sellertype_encoded'] = enc.fit_transform(vehicles_df[['seller_type']])\n",
    "enco = OrdinalEncoder(categories=[['First Owner','Second Owner','Third Owner','Fourth & Above Owner', 'Test Drive Car']])\n",
    "vehicles_df['owner_encoded'] = enco.fit_transform(vehicles_df[['owner']])\n",
    "vehicles_df.head()"
   ]
  },
  {
   "cell_type": "code",
   "execution_count": 79,
   "metadata": {},
   "outputs": [
    {
     "data": {
      "text/html": [
       "<div>\n",
       "<style scoped>\n",
       "    .dataframe tbody tr th:only-of-type {\n",
       "        vertical-align: middle;\n",
       "    }\n",
       "\n",
       "    .dataframe tbody tr th {\n",
       "        vertical-align: top;\n",
       "    }\n",
       "\n",
       "    .dataframe thead th {\n",
       "        text-align: right;\n",
       "    }\n",
       "</style>\n",
       "<table border=\"1\" class=\"dataframe\">\n",
       "  <thead>\n",
       "    <tr style=\"text-align: right;\">\n",
       "      <th></th>\n",
       "      <th>name</th>\n",
       "      <th>year</th>\n",
       "      <th>selling_price</th>\n",
       "      <th>kilometers_driven</th>\n",
       "      <th>fuel</th>\n",
       "      <th>seller_type</th>\n",
       "      <th>owner</th>\n",
       "      <th>fuel_encoded</th>\n",
       "      <th>sellertype_encoded</th>\n",
       "      <th>owner_encoded</th>\n",
       "      <th>transmission_Automatic</th>\n",
       "      <th>transmission_Manual</th>\n",
       "    </tr>\n",
       "  </thead>\n",
       "  <tbody>\n",
       "    <tr>\n",
       "      <th>0</th>\n",
       "      <td>Maruti 800 AC</td>\n",
       "      <td>2007</td>\n",
       "      <td>60000</td>\n",
       "      <td>70000</td>\n",
       "      <td>Petrol</td>\n",
       "      <td>Individual</td>\n",
       "      <td>First Owner</td>\n",
       "      <td>0.0</td>\n",
       "      <td>1.0</td>\n",
       "      <td>0.0</td>\n",
       "      <td>False</td>\n",
       "      <td>True</td>\n",
       "    </tr>\n",
       "    <tr>\n",
       "      <th>1</th>\n",
       "      <td>Maruti Wagon R LXI Minor</td>\n",
       "      <td>2007</td>\n",
       "      <td>135000</td>\n",
       "      <td>50000</td>\n",
       "      <td>Petrol</td>\n",
       "      <td>Individual</td>\n",
       "      <td>First Owner</td>\n",
       "      <td>0.0</td>\n",
       "      <td>1.0</td>\n",
       "      <td>0.0</td>\n",
       "      <td>False</td>\n",
       "      <td>True</td>\n",
       "    </tr>\n",
       "    <tr>\n",
       "      <th>2</th>\n",
       "      <td>Hyundai Verna 1.6 SX</td>\n",
       "      <td>2012</td>\n",
       "      <td>600000</td>\n",
       "      <td>100000</td>\n",
       "      <td>Diesel</td>\n",
       "      <td>Individual</td>\n",
       "      <td>First Owner</td>\n",
       "      <td>1.0</td>\n",
       "      <td>1.0</td>\n",
       "      <td>0.0</td>\n",
       "      <td>False</td>\n",
       "      <td>True</td>\n",
       "    </tr>\n",
       "    <tr>\n",
       "      <th>3</th>\n",
       "      <td>Datsun RediGO T Option</td>\n",
       "      <td>2017</td>\n",
       "      <td>250000</td>\n",
       "      <td>46000</td>\n",
       "      <td>Petrol</td>\n",
       "      <td>Individual</td>\n",
       "      <td>First Owner</td>\n",
       "      <td>0.0</td>\n",
       "      <td>1.0</td>\n",
       "      <td>0.0</td>\n",
       "      <td>False</td>\n",
       "      <td>True</td>\n",
       "    </tr>\n",
       "    <tr>\n",
       "      <th>4</th>\n",
       "      <td>Honda Amaze VX i-DTEC</td>\n",
       "      <td>2014</td>\n",
       "      <td>450000</td>\n",
       "      <td>141000</td>\n",
       "      <td>Diesel</td>\n",
       "      <td>Individual</td>\n",
       "      <td>Second Owner</td>\n",
       "      <td>1.0</td>\n",
       "      <td>1.0</td>\n",
       "      <td>1.0</td>\n",
       "      <td>False</td>\n",
       "      <td>True</td>\n",
       "    </tr>\n",
       "    <tr>\n",
       "      <th>...</th>\n",
       "      <td>...</td>\n",
       "      <td>...</td>\n",
       "      <td>...</td>\n",
       "      <td>...</td>\n",
       "      <td>...</td>\n",
       "      <td>...</td>\n",
       "      <td>...</td>\n",
       "      <td>...</td>\n",
       "      <td>...</td>\n",
       "      <td>...</td>\n",
       "      <td>...</td>\n",
       "      <td>...</td>\n",
       "    </tr>\n",
       "    <tr>\n",
       "      <th>4335</th>\n",
       "      <td>Hyundai i20 Magna 1.4 CRDi (Diesel)</td>\n",
       "      <td>2014</td>\n",
       "      <td>409999</td>\n",
       "      <td>80000</td>\n",
       "      <td>Diesel</td>\n",
       "      <td>Individual</td>\n",
       "      <td>Second Owner</td>\n",
       "      <td>1.0</td>\n",
       "      <td>1.0</td>\n",
       "      <td>1.0</td>\n",
       "      <td>False</td>\n",
       "      <td>True</td>\n",
       "    </tr>\n",
       "    <tr>\n",
       "      <th>4336</th>\n",
       "      <td>Hyundai i20 Magna 1.4 CRDi</td>\n",
       "      <td>2014</td>\n",
       "      <td>409999</td>\n",
       "      <td>80000</td>\n",
       "      <td>Diesel</td>\n",
       "      <td>Individual</td>\n",
       "      <td>Second Owner</td>\n",
       "      <td>1.0</td>\n",
       "      <td>1.0</td>\n",
       "      <td>1.0</td>\n",
       "      <td>False</td>\n",
       "      <td>True</td>\n",
       "    </tr>\n",
       "    <tr>\n",
       "      <th>4337</th>\n",
       "      <td>Maruti 800 AC BSIII</td>\n",
       "      <td>2009</td>\n",
       "      <td>110000</td>\n",
       "      <td>83000</td>\n",
       "      <td>Petrol</td>\n",
       "      <td>Individual</td>\n",
       "      <td>Second Owner</td>\n",
       "      <td>0.0</td>\n",
       "      <td>1.0</td>\n",
       "      <td>1.0</td>\n",
       "      <td>False</td>\n",
       "      <td>True</td>\n",
       "    </tr>\n",
       "    <tr>\n",
       "      <th>4338</th>\n",
       "      <td>Hyundai Creta 1.6 CRDi SX Option</td>\n",
       "      <td>2016</td>\n",
       "      <td>865000</td>\n",
       "      <td>90000</td>\n",
       "      <td>Diesel</td>\n",
       "      <td>Individual</td>\n",
       "      <td>First Owner</td>\n",
       "      <td>1.0</td>\n",
       "      <td>1.0</td>\n",
       "      <td>0.0</td>\n",
       "      <td>False</td>\n",
       "      <td>True</td>\n",
       "    </tr>\n",
       "    <tr>\n",
       "      <th>4339</th>\n",
       "      <td>Renault KWID RXT</td>\n",
       "      <td>2016</td>\n",
       "      <td>225000</td>\n",
       "      <td>40000</td>\n",
       "      <td>Petrol</td>\n",
       "      <td>Individual</td>\n",
       "      <td>First Owner</td>\n",
       "      <td>0.0</td>\n",
       "      <td>1.0</td>\n",
       "      <td>0.0</td>\n",
       "      <td>False</td>\n",
       "      <td>True</td>\n",
       "    </tr>\n",
       "  </tbody>\n",
       "</table>\n",
       "<p>4340 rows × 12 columns</p>\n",
       "</div>"
      ],
      "text/plain": [
       "                                     name  year  selling_price  \\\n",
       "0                           Maruti 800 AC  2007          60000   \n",
       "1                Maruti Wagon R LXI Minor  2007         135000   \n",
       "2                    Hyundai Verna 1.6 SX  2012         600000   \n",
       "3                  Datsun RediGO T Option  2017         250000   \n",
       "4                   Honda Amaze VX i-DTEC  2014         450000   \n",
       "...                                   ...   ...            ...   \n",
       "4335  Hyundai i20 Magna 1.4 CRDi (Diesel)  2014         409999   \n",
       "4336           Hyundai i20 Magna 1.4 CRDi  2014         409999   \n",
       "4337                  Maruti 800 AC BSIII  2009         110000   \n",
       "4338     Hyundai Creta 1.6 CRDi SX Option  2016         865000   \n",
       "4339                     Renault KWID RXT  2016         225000   \n",
       "\n",
       "      kilometers_driven    fuel seller_type         owner  fuel_encoded  \\\n",
       "0                 70000  Petrol  Individual   First Owner           0.0   \n",
       "1                 50000  Petrol  Individual   First Owner           0.0   \n",
       "2                100000  Diesel  Individual   First Owner           1.0   \n",
       "3                 46000  Petrol  Individual   First Owner           0.0   \n",
       "4                141000  Diesel  Individual  Second Owner           1.0   \n",
       "...                 ...     ...         ...           ...           ...   \n",
       "4335              80000  Diesel  Individual  Second Owner           1.0   \n",
       "4336              80000  Diesel  Individual  Second Owner           1.0   \n",
       "4337              83000  Petrol  Individual  Second Owner           0.0   \n",
       "4338              90000  Diesel  Individual   First Owner           1.0   \n",
       "4339              40000  Petrol  Individual   First Owner           0.0   \n",
       "\n",
       "      sellertype_encoded  owner_encoded  transmission_Automatic  \\\n",
       "0                    1.0            0.0                   False   \n",
       "1                    1.0            0.0                   False   \n",
       "2                    1.0            0.0                   False   \n",
       "3                    1.0            0.0                   False   \n",
       "4                    1.0            1.0                   False   \n",
       "...                  ...            ...                     ...   \n",
       "4335                 1.0            1.0                   False   \n",
       "4336                 1.0            1.0                   False   \n",
       "4337                 1.0            1.0                   False   \n",
       "4338                 1.0            0.0                   False   \n",
       "4339                 1.0            0.0                   False   \n",
       "\n",
       "      transmission_Manual  \n",
       "0                    True  \n",
       "1                    True  \n",
       "2                    True  \n",
       "3                    True  \n",
       "4                    True  \n",
       "...                   ...  \n",
       "4335                 True  \n",
       "4336                 True  \n",
       "4337                 True  \n",
       "4338                 True  \n",
       "4339                 True  \n",
       "\n",
       "[4340 rows x 12 columns]"
      ]
     },
     "execution_count": 79,
     "metadata": {},
     "output_type": "execute_result"
    }
   ],
   "source": [
    "categorical_col = pd.get_dummies(vehicles_df, columns = ['transmission'], drop_first=False)\n",
    "categorical_col"
   ]
  },
  {
   "cell_type": "code",
   "execution_count": 80,
   "metadata": {},
   "outputs": [],
   "source": [
    "from sklearn.model_selection import train_test_split\n",
    "x = categorical_col.drop(['name','selling_price','fuel','seller_type','owner'],axis=1)\n",
    "y = vehicles_df.selling_price\n",
    "train_x,val_x, train_y, val_y = train_test_split(x, y, random_state = 1)"
   ]
  },
  {
   "cell_type": "code",
   "execution_count": 81,
   "metadata": {},
   "outputs": [
    {
     "data": {
      "text/html": [
       "<div>\n",
       "<style scoped>\n",
       "    .dataframe tbody tr th:only-of-type {\n",
       "        vertical-align: middle;\n",
       "    }\n",
       "\n",
       "    .dataframe tbody tr th {\n",
       "        vertical-align: top;\n",
       "    }\n",
       "\n",
       "    .dataframe thead th {\n",
       "        text-align: right;\n",
       "    }\n",
       "</style>\n",
       "<table border=\"1\" class=\"dataframe\">\n",
       "  <thead>\n",
       "    <tr style=\"text-align: right;\">\n",
       "      <th></th>\n",
       "      <th>year</th>\n",
       "      <th>kilometers_driven</th>\n",
       "      <th>fuel_encoded</th>\n",
       "      <th>sellertype_encoded</th>\n",
       "      <th>owner_encoded</th>\n",
       "      <th>transmission_Automatic</th>\n",
       "      <th>transmission_Manual</th>\n",
       "    </tr>\n",
       "  </thead>\n",
       "  <tbody>\n",
       "    <tr>\n",
       "      <th>2761</th>\n",
       "      <td>2019</td>\n",
       "      <td>15000</td>\n",
       "      <td>1.0</td>\n",
       "      <td>1.0</td>\n",
       "      <td>0.0</td>\n",
       "      <td>False</td>\n",
       "      <td>True</td>\n",
       "    </tr>\n",
       "    <tr>\n",
       "      <th>3210</th>\n",
       "      <td>2014</td>\n",
       "      <td>70000</td>\n",
       "      <td>1.0</td>\n",
       "      <td>1.0</td>\n",
       "      <td>1.0</td>\n",
       "      <td>False</td>\n",
       "      <td>True</td>\n",
       "    </tr>\n",
       "    <tr>\n",
       "      <th>2606</th>\n",
       "      <td>2012</td>\n",
       "      <td>90000</td>\n",
       "      <td>1.0</td>\n",
       "      <td>1.0</td>\n",
       "      <td>0.0</td>\n",
       "      <td>False</td>\n",
       "      <td>True</td>\n",
       "    </tr>\n",
       "    <tr>\n",
       "      <th>1030</th>\n",
       "      <td>2016</td>\n",
       "      <td>41000</td>\n",
       "      <td>0.0</td>\n",
       "      <td>0.0</td>\n",
       "      <td>0.0</td>\n",
       "      <td>False</td>\n",
       "      <td>True</td>\n",
       "    </tr>\n",
       "    <tr>\n",
       "      <th>3942</th>\n",
       "      <td>2014</td>\n",
       "      <td>71318</td>\n",
       "      <td>1.0</td>\n",
       "      <td>0.0</td>\n",
       "      <td>0.0</td>\n",
       "      <td>False</td>\n",
       "      <td>True</td>\n",
       "    </tr>\n",
       "    <tr>\n",
       "      <th>...</th>\n",
       "      <td>...</td>\n",
       "      <td>...</td>\n",
       "      <td>...</td>\n",
       "      <td>...</td>\n",
       "      <td>...</td>\n",
       "      <td>...</td>\n",
       "      <td>...</td>\n",
       "    </tr>\n",
       "    <tr>\n",
       "      <th>4086</th>\n",
       "      <td>2008</td>\n",
       "      <td>120000</td>\n",
       "      <td>1.0</td>\n",
       "      <td>1.0</td>\n",
       "      <td>1.0</td>\n",
       "      <td>False</td>\n",
       "      <td>True</td>\n",
       "    </tr>\n",
       "    <tr>\n",
       "      <th>297</th>\n",
       "      <td>2015</td>\n",
       "      <td>70000</td>\n",
       "      <td>0.0</td>\n",
       "      <td>1.0</td>\n",
       "      <td>0.0</td>\n",
       "      <td>False</td>\n",
       "      <td>True</td>\n",
       "    </tr>\n",
       "    <tr>\n",
       "      <th>527</th>\n",
       "      <td>2017</td>\n",
       "      <td>41000</td>\n",
       "      <td>1.0</td>\n",
       "      <td>1.0</td>\n",
       "      <td>0.0</td>\n",
       "      <td>True</td>\n",
       "      <td>False</td>\n",
       "    </tr>\n",
       "    <tr>\n",
       "      <th>442</th>\n",
       "      <td>2011</td>\n",
       "      <td>15000</td>\n",
       "      <td>0.0</td>\n",
       "      <td>1.0</td>\n",
       "      <td>0.0</td>\n",
       "      <td>False</td>\n",
       "      <td>True</td>\n",
       "    </tr>\n",
       "    <tr>\n",
       "      <th>72</th>\n",
       "      <td>2018</td>\n",
       "      <td>31000</td>\n",
       "      <td>0.0</td>\n",
       "      <td>1.0</td>\n",
       "      <td>0.0</td>\n",
       "      <td>False</td>\n",
       "      <td>True</td>\n",
       "    </tr>\n",
       "  </tbody>\n",
       "</table>\n",
       "<p>1085 rows × 7 columns</p>\n",
       "</div>"
      ],
      "text/plain": [
       "      year  kilometers_driven  fuel_encoded  sellertype_encoded  \\\n",
       "2761  2019              15000           1.0                 1.0   \n",
       "3210  2014              70000           1.0                 1.0   \n",
       "2606  2012              90000           1.0                 1.0   \n",
       "1030  2016              41000           0.0                 0.0   \n",
       "3942  2014              71318           1.0                 0.0   \n",
       "...    ...                ...           ...                 ...   \n",
       "4086  2008             120000           1.0                 1.0   \n",
       "297   2015              70000           0.0                 1.0   \n",
       "527   2017              41000           1.0                 1.0   \n",
       "442   2011              15000           0.0                 1.0   \n",
       "72    2018              31000           0.0                 1.0   \n",
       "\n",
       "      owner_encoded  transmission_Automatic  transmission_Manual  \n",
       "2761            0.0                   False                 True  \n",
       "3210            1.0                   False                 True  \n",
       "2606            0.0                   False                 True  \n",
       "1030            0.0                   False                 True  \n",
       "3942            0.0                   False                 True  \n",
       "...             ...                     ...                  ...  \n",
       "4086            1.0                   False                 True  \n",
       "297             0.0                   False                 True  \n",
       "527             0.0                    True                False  \n",
       "442             0.0                   False                 True  \n",
       "72              0.0                   False                 True  \n",
       "\n",
       "[1085 rows x 7 columns]"
      ]
     },
     "execution_count": 81,
     "metadata": {},
     "output_type": "execute_result"
    }
   ],
   "source": [
    "val_x"
   ]
  },
  {
   "cell_type": "markdown",
   "metadata": {},
   "source": [
    "##### Importing Linear regression model and working with it"
   ]
  },
  {
   "cell_type": "code",
   "execution_count": 82,
   "metadata": {},
   "outputs": [],
   "source": [
    "from sklearn.linear_model import LinearRegression"
   ]
  },
  {
   "cell_type": "code",
   "execution_count": 83,
   "metadata": {},
   "outputs": [
    {
     "name": "stdout",
     "output_type": "stream",
     "text": [
      "[ 752118.43349756  501985.93917777  429013.34178609 ... 1529721.58872584\n",
      "  264558.92235866  544811.8706113 ]\n"
     ]
    }
   ],
   "source": [
    "model = LinearRegression()\n",
    "model.fit(train_x,train_y)\n",
    "pred = model.predict(val_x)\n",
    "print(pred)"
   ]
  },
  {
   "cell_type": "markdown",
   "metadata": {},
   "source": [
    "##### R2 score of the model"
   ]
  },
  {
   "cell_type": "code",
   "execution_count": 84,
   "metadata": {},
   "outputs": [
    {
     "name": "stdout",
     "output_type": "stream",
     "text": [
      "0.43322731780192736\n"
     ]
    }
   ],
   "source": [
    "from sklearn.metrics import r2_score\n",
    "r2 = r2_score(val_y, pred)\n",
    "print(r2)"
   ]
  }
 ],
 "metadata": {
  "kernelspec": {
   "display_name": "Python 3",
   "language": "python",
   "name": "python3"
  },
  "language_info": {
   "codemirror_mode": {
    "name": "ipython",
    "version": 3
   },
   "file_extension": ".py",
   "mimetype": "text/x-python",
   "name": "python",
   "nbconvert_exporter": "python",
   "pygments_lexer": "ipython3",
   "version": "3.12.4"
  }
 },
 "nbformat": 4,
 "nbformat_minor": 2
}
