{
 "cells": [
  {
   "cell_type": "code",
   "execution_count": 229,
   "metadata": {},
   "outputs": [
    {
     "name": "stderr",
     "output_type": "stream",
     "text": [
      "<>:2: SyntaxWarning: invalid escape sequence '\\A'\n",
      "<>:2: SyntaxWarning: invalid escape sequence '\\A'\n",
      "C:\\Users\\Dell\\AppData\\Local\\Temp\\ipykernel_16488\\523354991.py:2: SyntaxWarning: invalid escape sequence '\\A'\n",
      "  file_path = 'D:\\ACM_AI/USA_cars_datasets.csv'\n"
     ]
    }
   ],
   "source": [
    "import pandas as pd\n",
    "file_path = 'D:\\ACM_AI/USA_cars_datasets.csv'\n",
    "cars_data = pd.read_csv(file_path)"
   ]
  },
  {
   "cell_type": "code",
   "execution_count": 230,
   "metadata": {},
   "outputs": [
    {
     "name": "stdout",
     "output_type": "stream",
     "text": [
      "   Unnamed: 0  price      brand    model  year   title_status   mileage  \\\n",
      "0           0   6300     toyota  cruiser  2008  clean vehicle  274117.0   \n",
      "1           1   2899       ford       se  2011  clean vehicle  190552.0   \n",
      "2           2   5350      dodge      mpv  2018  clean vehicle   39590.0   \n",
      "3           3  25000       ford     door  2014  clean vehicle   64146.0   \n",
      "4           4  27700  chevrolet     1500  2018  clean vehicle    6654.0   \n",
      "\n",
      "    color                  vin        lot       state country      condition  \n",
      "0   black    jtezu11f88k007763  159348797  new jersey     usa   10 days left  \n",
      "1  silver    2fmdk3gc4bbb02217  166951262   tennessee     usa    6 days left  \n",
      "2  silver    3c4pdcgg5jt346413  167655728     georgia     usa    2 days left  \n",
      "3    blue    1ftfw1et4efc23745  167753855    virginia     usa  22 hours left  \n",
      "4     red    3gcpcrec2jg473991  167763266     florida     usa  22 hours left  \n",
      "      Unnamed: 0  price   brand  model  year   title_status  mileage   color  \\\n",
      "2494        2494   7800  nissan  versa  2019  clean vehicle  23609.0     red   \n",
      "2495        2495   9200  nissan  versa  2018  clean vehicle  34553.0  silver   \n",
      "2496        2496   9200  nissan  versa  2018  clean vehicle  31594.0  silver   \n",
      "2497        2497   9200  nissan  versa  2018  clean vehicle  32557.0   black   \n",
      "2498        2498   9200  nissan  versa  2018  clean vehicle  31371.0  silver   \n",
      "\n",
      "                      vin        lot       state country      condition  \n",
      "2494    3n1cn7ap9kl880319  167722715  california     usa    1 days left  \n",
      "2495    3n1cn7ap5jl884088  167762225     florida     usa  21 hours left  \n",
      "2496    3n1cn7ap9jl884191  167762226     florida     usa  21 hours left  \n",
      "2497    3n1cn7ap3jl883263  167762227     florida     usa    2 days left  \n",
      "2498    3n1cn7ap4jl884311  167762228     florida     usa  21 hours left  \n"
     ]
    }
   ],
   "source": [
    "print(cars_data.head())\n",
    "print(cars_data.tail())"
   ]
  },
  {
   "cell_type": "code",
   "execution_count": 231,
   "metadata": {},
   "outputs": [
    {
     "data": {
      "text/plain": [
       "Unnamed: 0      False\n",
       "price           False\n",
       "brand           False\n",
       "model           False\n",
       "year            False\n",
       "title_status    False\n",
       "mileage         False\n",
       "color           False\n",
       "vin             False\n",
       "lot             False\n",
       "state           False\n",
       "country         False\n",
       "condition       False\n",
       "dtype: bool"
      ]
     },
     "execution_count": 231,
     "metadata": {},
     "output_type": "execute_result"
    }
   ],
   "source": [
    "cars_data.isnull().any()"
   ]
  },
  {
   "cell_type": "code",
   "execution_count": 232,
   "metadata": {},
   "outputs": [
    {
     "name": "stdout",
     "output_type": "stream",
     "text": [
      "      Unnamed: 0  price      brand    model  year   title_status   mileage  \\\n",
      "0              0   6300     toyota  cruiser  2008  clean vehicle  274117.0   \n",
      "1              1   2899       ford       se  2011  clean vehicle  190552.0   \n",
      "2              2   5350      dodge      mpv  2018  clean vehicle   39590.0   \n",
      "3              3  25000       ford     door  2014  clean vehicle   64146.0   \n",
      "4              4  27700  chevrolet     1500  2018  clean vehicle    6654.0   \n",
      "...          ...    ...        ...      ...   ...            ...       ...   \n",
      "2494        2494   7800     nissan    versa  2019  clean vehicle   23609.0   \n",
      "2495        2495   9200     nissan    versa  2018  clean vehicle   34553.0   \n",
      "2496        2496   9200     nissan    versa  2018  clean vehicle   31594.0   \n",
      "2497        2497   9200     nissan    versa  2018  clean vehicle   32557.0   \n",
      "2498        2498   9200     nissan    versa  2018  clean vehicle   31371.0   \n",
      "\n",
      "       color                  vin        lot       state country  \\\n",
      "0      black    jtezu11f88k007763  159348797  new jersey     usa   \n",
      "1     silver    2fmdk3gc4bbb02217  166951262   tennessee     usa   \n",
      "2     silver    3c4pdcgg5jt346413  167655728     georgia     usa   \n",
      "3       blue    1ftfw1et4efc23745  167753855    virginia     usa   \n",
      "4        red    3gcpcrec2jg473991  167763266     florida     usa   \n",
      "...      ...                  ...        ...         ...     ...   \n",
      "2494     red    3n1cn7ap9kl880319  167722715  california     usa   \n",
      "2495  silver    3n1cn7ap5jl884088  167762225     florida     usa   \n",
      "2496  silver    3n1cn7ap9jl884191  167762226     florida     usa   \n",
      "2497   black    3n1cn7ap3jl883263  167762227     florida     usa   \n",
      "2498  silver    3n1cn7ap4jl884311  167762228     florida     usa   \n",
      "\n",
      "          condition  \n",
      "0      10 days left  \n",
      "1       6 days left  \n",
      "2       2 days left  \n",
      "3     22 hours left  \n",
      "4     22 hours left  \n",
      "...             ...  \n",
      "2494    1 days left  \n",
      "2495  21 hours left  \n",
      "2496  21 hours left  \n",
      "2497    2 days left  \n",
      "2498  21 hours left  \n",
      "\n",
      "[2499 rows x 13 columns]\n"
     ]
    }
   ],
   "source": [
    "df = pd.DataFrame(cars_data)\n",
    "print(df)"
   ]
  },
  {
   "cell_type": "code",
   "execution_count": 233,
   "metadata": {},
   "outputs": [
    {
     "name": "stdout",
     "output_type": "stream",
     "text": [
      "Index(['Unnamed: 0', 'price', 'brand', 'model', 'year', 'title_status',\n",
      "       'mileage', 'color', 'vin', 'lot', 'state', 'country', 'condition'],\n",
      "      dtype='object')\n"
     ]
    }
   ],
   "source": [
    "df.columns.str.strip()\n",
    "print(df.columns)"
   ]
  },
  {
   "cell_type": "code",
   "execution_count": 234,
   "metadata": {},
   "outputs": [
    {
     "name": "stdout",
     "output_type": "stream",
     "text": [
      "      Unnamed: 0  price      brand    model  year   title_status   mileage  \\\n",
      "0              0   6300     toyota  cruiser  2008  clean vehicle  274117.0   \n",
      "1              1   2899       ford       se  2011  clean vehicle  190552.0   \n",
      "2              2   5350      dodge      mpv  2018  clean vehicle   39590.0   \n",
      "3              3  25000       ford     door  2014  clean vehicle   64146.0   \n",
      "4              4  27700  chevrolet     1500  2018  clean vehicle    6654.0   \n",
      "...          ...    ...        ...      ...   ...            ...       ...   \n",
      "2494        2494   7800     nissan    versa  2019  clean vehicle   23609.0   \n",
      "2495        2495   9200     nissan    versa  2018  clean vehicle   34553.0   \n",
      "2496        2496   9200     nissan    versa  2018  clean vehicle   31594.0   \n",
      "2497        2497   9200     nissan    versa  2018  clean vehicle   32557.0   \n",
      "2498        2498   9200     nissan    versa  2018  clean vehicle   31371.0   \n",
      "\n",
      "       color       state country      condition  \n",
      "0      black  new jersey     usa   10 days left  \n",
      "1     silver   tennessee     usa    6 days left  \n",
      "2     silver     georgia     usa    2 days left  \n",
      "3       blue    virginia     usa  22 hours left  \n",
      "4        red     florida     usa  22 hours left  \n",
      "...      ...         ...     ...            ...  \n",
      "2494     red  california     usa    1 days left  \n",
      "2495  silver     florida     usa  21 hours left  \n",
      "2496  silver     florida     usa  21 hours left  \n",
      "2497   black     florida     usa    2 days left  \n",
      "2498  silver     florida     usa  21 hours left  \n",
      "\n",
      "[2499 rows x 11 columns]\n"
     ]
    }
   ],
   "source": [
    "df.drop(columns=[\"vin\", \"lot\"], axis=1, inplace=True)\n",
    "print(df)"
   ]
  },
  {
   "cell_type": "code",
   "execution_count": 235,
   "metadata": {},
   "outputs": [
    {
     "name": "stdout",
     "output_type": "stream",
     "text": [
      "      Unnamed: 0  price      brand    model  year   title_status   mileage  \\\n",
      "0              0   6300     toyota  cruiser  2008  clean vehicle  274117.0   \n",
      "1              1   2899       ford       se  2011  clean vehicle  190552.0   \n",
      "2              2   5350      dodge      mpv  2018  clean vehicle   39590.0   \n",
      "3              3  25000       ford     door  2014  clean vehicle   64146.0   \n",
      "4              4  27700  chevrolet     1500  2018  clean vehicle    6654.0   \n",
      "...          ...    ...        ...      ...   ...            ...       ...   \n",
      "2494        2494   7800     nissan    versa  2019  clean vehicle   23609.0   \n",
      "2495        2495   9200     nissan    versa  2018  clean vehicle   34553.0   \n",
      "2496        2496   9200     nissan    versa  2018  clean vehicle   31594.0   \n",
      "2497        2497   9200     nissan    versa  2018  clean vehicle   32557.0   \n",
      "2498        2498   9200     nissan    versa  2018  clean vehicle   31371.0   \n",
      "\n",
      "       color       state country      condition  \n",
      "0      black  new jersey     usa   10 days left  \n",
      "1     silver   tennessee     usa    6 days left  \n",
      "2     silver     georgia     usa    2 days left  \n",
      "3       blue    virginia     usa  22 hours left  \n",
      "4        red     florida     usa  22 hours left  \n",
      "...      ...         ...     ...            ...  \n",
      "2494     red  california     usa    1 days left  \n",
      "2495  silver     florida     usa  21 hours left  \n",
      "2496  silver     florida     usa  21 hours left  \n",
      "2497   black     florida     usa    2 days left  \n",
      "2498  silver     florida     usa  21 hours left  \n",
      "\n",
      "[2499 rows x 11 columns]\n"
     ]
    }
   ],
   "source": [
    "print(df)"
   ]
  },
  {
   "cell_type": "code",
   "execution_count": 236,
   "metadata": {},
   "outputs": [
    {
     "name": "stdout",
     "output_type": "stream",
     "text": [
      "   Unnamed: 0  price      brand    model  year   title_status   mileage  \\\n",
      "0           0   6300     toyota  cruiser  2008  clean vehicle  274117.0   \n",
      "1           1   2899       ford       se  2011  clean vehicle  190552.0   \n",
      "2           2   5350      dodge      mpv  2018  clean vehicle   39590.0   \n",
      "3           3  25000       ford     door  2014  clean vehicle   64146.0   \n",
      "4           4  27700  chevrolet     1500  2018  clean vehicle    6654.0   \n",
      "\n",
      "    color       state country      condition  brand_enc  title_status_enc  \\\n",
      "0   black  new jersey     usa   10 days left        0.0               0.0   \n",
      "1  silver   tennessee     usa    6 days left        1.0               0.0   \n",
      "2  silver     georgia     usa    2 days left        2.0               0.0   \n",
      "3    blue    virginia     usa  22 hours left        1.0               0.0   \n",
      "4     red     florida     usa  22 hours left        3.0               0.0   \n",
      "\n",
      "   color_enc  model_enc  state_enc  country_enc  condition_enc  \n",
      "0       35.0       50.0       43.0          0.0           21.0  \n",
      "1       43.0       19.0       29.0          0.0           32.0  \n",
      "2       43.0       28.0        2.0          0.0           31.0  \n",
      "3       44.0       23.0        0.0          0.0           26.0  \n",
      "4       23.0      108.0        1.0          0.0           26.0  \n"
     ]
    }
   ],
   "source": [
    "from sklearn.preprocessing import OrdinalEncoder\n",
    "df['brand_enc'] = OrdinalEncoder(categories=[['toyota', 'ford', 'dodge', 'chevrolet', 'nissan', 'jeep', 'hyundai', 'buick', 'harley-davidson', 'lexus', 'jaguar', 'heartland', 'kia', 'mazda', 'infiniti', 'land', 'lincoln', 'acura', 'gmc', 'cadillac', 'audi', 'maserati', 'honda', 'chrysler', 'ram', 'mercedes-benz', 'bmw', 'peterbilt']]).fit_transform(df[['brand']])\n",
    "df['title_status_enc'] = OrdinalEncoder(categories=[['clean vehicle', 'salvage insurance']]).fit_transform(df[['title_status']])\n",
    "df['color_enc'] = OrdinalEncoder(categories=[['gray', 'gold', 'phantom black', 'black clearcoat', 'ingot silver metallic', 'white platinum tri-coat metallic', 'billet silver metallic clearcoat', 'ruby red metallic tinted clearcoat', 'ingot silver', 'jazz blue pearlcoat', 'turquoise', 'burgundy', 'purple', 'off-white', 'dark blue', 'beige', 'magnetic metallic', 'no_color', 'brown', 'light blue', 'cayenne red', 'charcoal', 'royal crimson metallic tinted clearcoat', 'red', 'competition orange', 'orange', 'ruby red', 'lightning blue', 'white', 'tuxedo black metallic', 'morningsky blue', 'tan', 'green', 'pearl white', 'glacier white', 'black', 'shadow black', 'toreador red', 'triple yellow tri-coat', 'maroon', 'yellow', 'color:', 'super black', 'silver', 'blue', 'bright white clearcoat', 'kona blue metallic', 'oxford white', 'guard']]).fit_transform(df[['color']])\n",
    "df['model_enc'] = OrdinalEncoder(categories=[['sundance', 'f-150', 'cab', 'charger', 'sentra', '2500', 'challenger', 'suburban', 'mustang', 'trail', 'xd', 'energi', 'hybrid', 'trax', 'corvette', 'convertible', 'suv', 'frontier', 'cx-3', 'se', 'malibu', 'acadia', 'impala', 'door', 'utility', 'srw', 'f-750', 'pacifica', 'mpv', 'sl-class', 'kicks', 'series', 'compass', 'encore', 'esv', 'escape', 'durango', 'sorento', 'chassis', 'gx', 'sport', 'pathfinder', 'xt5', 'gle', 'limited', 'ld', 'country', 'pioneer', 'drw', 'srx', 'cruiser', 'vans', 'glc', 'sonic', 'xterra', 'juke', 'discovery', 'pickup', 'wagon', 'journey', 'ranger', 'nvp', 'sedan', 'murano', 'explorer', 'doors', 'elantra', 'fusion', 'coupe', 'el', 'x3', 'fiesta', 'sportage', 'dr', '3500', 'spark', 'traverse', 'tahoe', 'cherokee', 'rogue', 'colorado', 'caravan', 'volt', 'ghibli', 'dart', '300', 'cruze', 'expedition', 'equinox', 'van', 'flex', 'bus', 'mdx', 'truck', 'soul', 'cargo', 'q5', 'cutaway', 'm', 'maxima', 'pk', 'road/street', 'd', 'passenger', 'q70', 'taurus', '5', 'versa', '1500', 'transit', '2500hd', 'camaro', 'max', 'titan', 'vehicl', 'connect', 'nautilus', 'e-class', 'armada', 'edge', 'focus', 'altima', 'ecosport', 'note', 'f-650', 'forte', 'enclave']]).fit_transform(df[['model']])\n",
    "df['state_enc'] = OrdinalEncoder(categories=[['virginia', 'florida', 'georgia', 'vermont', 'pennsylvania', 'texas', 'ohio', 'arkansas', 'alabama', 'west virginia', 'nebraska', 'connecticut', 'north carolina', 'colorado', 'wisconsin', 'new hampshire', 'new mexico', 'california', 'kentucky', 'kansas', 'wyoming', 'massachusetts', 'missouri', 'oklahoma', 'oregon', 'michigan', 'nevada', 'rhode island', 'new york', 'tennessee', 'indiana', 'illinois', 'minnesota', 'south carolina', 'ontario', 'mississippi', 'utah', 'maryland', 'louisiana', 'montana', 'washington', 'idaho', 'arizona', 'new jersey']]).fit_transform(df[['state']])\n",
    "df['country_enc'] = OrdinalEncoder(categories=[[' usa', ' canada']]).fit_transform(df[['country']])\n",
    "df['condition_enc'] = OrdinalEncoder(categories=[['34 minutes', '24 hours left', '18 hours left', '15 hours left', '16 hours left', '5 hours left', '23 hours left', '36 minutes', '14 hours left', '1 days left', '29 minutes', '47 minutes', '16 minutes', '5 days left', '53 minutes', '12 hours left', '27 minutes', '3 days left', '6 hours left', '4 hours left', '1 hours left', '10 days left', '2 hours left', '12 days left', '28 minutes', '11 days left', '22 hours left', '15 days left', '9 minutes', '19 hours left', '17 hours left', '2 days left', '6 days left', '30 minutes', '7 days left', '13 days left', '3 hours left', '20 hours left', '8 days left', '7 hours left', '9 days left', '4 days left', '21 hours left', '32 minutes', 'Listing Expired', '1 minutes', '48 minutes']]).fit_transform(df[['condition']])\n",
    "print(df.head())"
   ]
  },
  {
   "cell_type": "code",
   "execution_count": 237,
   "metadata": {},
   "outputs": [
    {
     "name": "stdout",
     "output_type": "stream",
     "text": [
      "      year   mileage  brand_enc  title_status_enc  color_enc  model_enc  \\\n",
      "0     2008  274117.0        0.0               0.0       35.0       50.0   \n",
      "1     2011  190552.0        1.0               0.0       43.0       19.0   \n",
      "2     2018   39590.0        2.0               0.0       43.0       28.0   \n",
      "3     2014   64146.0        1.0               0.0       44.0       23.0   \n",
      "4     2018    6654.0        3.0               0.0       23.0      108.0   \n",
      "...    ...       ...        ...               ...        ...        ...   \n",
      "2494  2019   23609.0        4.0               0.0       23.0      107.0   \n",
      "2495  2018   34553.0        4.0               0.0       43.0      107.0   \n",
      "2496  2018   31594.0        4.0               0.0       43.0      107.0   \n",
      "2497  2018   32557.0        4.0               0.0       35.0      107.0   \n",
      "2498  2018   31371.0        4.0               0.0       43.0      107.0   \n",
      "\n",
      "      state_enc  country_enc  condition_enc  \n",
      "0          43.0          0.0           21.0  \n",
      "1          29.0          0.0           32.0  \n",
      "2           2.0          0.0           31.0  \n",
      "3           0.0          0.0           26.0  \n",
      "4           1.0          0.0           26.0  \n",
      "...         ...          ...            ...  \n",
      "2494       17.0          0.0            9.0  \n",
      "2495        1.0          0.0           42.0  \n",
      "2496        1.0          0.0           42.0  \n",
      "2497        1.0          0.0           31.0  \n",
      "2498        1.0          0.0           42.0  \n",
      "\n",
      "[2499 rows x 9 columns] 0        6300\n",
      "1        2899\n",
      "2        5350\n",
      "3       25000\n",
      "4       27700\n",
      "        ...  \n",
      "2494     7800\n",
      "2495     9200\n",
      "2496     9200\n",
      "2497     9200\n",
      "2498     9200\n",
      "Name: price, Length: 2499, dtype: int64\n"
     ]
    }
   ],
   "source": [
    "from sklearn.model_selection import train_test_split\n",
    "y = df.price\n",
    "x = df\n",
    "x.drop(columns=['Unnamed: 0','brand','model','title_status','color','state','country','condition','price'], axis=1,inplace=True)\n",
    "print(x,y)\n",
    "tr_x,val_x,tr_y,val_y = train_test_split(x,y,random_state=1)"
   ]
  },
  {
   "cell_type": "code",
   "execution_count": 238,
   "metadata": {},
   "outputs": [
    {
     "name": "stdout",
     "output_type": "stream",
     "text": [
      "[21904.03977472 21899.96679027 21382.97623487 19693.57896139\n",
      " 23286.99927564 22514.52266212 16640.44921332 21133.70547608\n",
      "  6089.36086976 21035.1782169  21400.8277326  14778.70748589\n",
      " 21719.63447048 21626.0504353  22097.29508958 23697.81395917\n",
      " 18161.34719785 22607.44591354 17266.06226986 22769.11405877\n",
      " 18062.7354564  16944.64829314 18761.48752857 21547.22769975\n",
      " 21580.78908268 17776.94754551 12200.70018556 23063.08101138\n",
      " 14438.27104392 20561.66538952 22409.64322094 13422.31584304\n",
      " 23089.78213037 21292.94427677 18825.13122273 17910.85766021\n",
      " 19632.61236681 20145.14231445 19570.01672097 23173.78072652\n",
      " 19533.7171778  22954.78213336 16682.18317848 15218.6374695\n",
      " 12177.85635993 23139.12180649 21199.66183079 18676.66086184\n",
      " 19716.5442052  19026.78885695 19916.47540638 23180.61540252\n",
      " -1764.35600831 21734.93721848 16342.8608444  22188.66454222\n",
      " 21094.35915867 17475.52978419 21314.52833257 15964.77051929\n",
      " 22121.61309825 12111.35847521 20565.08730552 18500.89725074\n",
      " 17114.43069774 22904.66842365 20535.7492397  15175.53507784\n",
      " 23062.49090488 15539.20774135 19171.30632151 17575.06919719\n",
      " 21207.55308447 23025.74037126  6813.28193526 20446.17741368\n",
      " 24628.44451004 21647.6753552  21038.99786401 20467.49994819\n",
      " 20907.45410216 20151.00233351 18915.49576851 20669.95900167\n",
      " 20638.08862033 19261.78188071 20597.16961752 20450.1696556\n",
      " 20884.87451432 17893.91908668 21979.6620341   8802.54945792\n",
      " 20289.1353007  20042.59027658 20204.81133406 16950.85517315\n",
      " 18021.54609494 23323.34848879 21369.19280442 17343.32370573\n",
      " 22892.05475148 22533.65223423 17764.86093356 16732.92484433\n",
      "  1923.44444381 15211.61140556 21562.89017418 24116.02974101\n",
      " 20052.08325445 22477.01007375 20226.60665989 11236.16877096\n",
      " 22773.48038225 25216.39496359 21533.11518864 19901.468378\n",
      " 21481.45048305 17025.29923339 22017.79060333 20487.45538496\n",
      " 22049.3613389  20351.42825012 19465.63734053 18555.89348805\n",
      " 21156.02158745 21406.7628601  22780.7187278  22884.61376767\n",
      " 11678.54603451 21549.88361932 24733.87774284 21863.15856657\n",
      " 18658.7385675  14080.18296855 18972.94490544 21676.21220877\n",
      " 20549.85636325 14572.66954843 23523.73264445 20261.04333104\n",
      " 17073.11201864 31048.6524107  13457.08335755 19991.65863253\n",
      " 19909.91374095 21220.27739447 21512.19082304 19648.37420733\n",
      " 21353.7118718  15910.72740257 18020.54464015 13979.32961012\n",
      " 18597.35330496 19537.21381816 20171.22893334 19747.8534074\n",
      " 22536.41948996 21883.99711058 21337.14364982 22085.8177089\n",
      " 23943.56464816 19290.79221842 22510.61338696 20656.4977482\n",
      " 18918.31260106 21217.19643538 20808.20434793 19981.2055007\n",
      " 22426.83413187 22061.59196155 20836.51683368 20642.32680592\n",
      " 19564.39737083  5660.3410168  22226.95623159 16539.1386852\n",
      " 20025.6918761  20380.639561   22788.17326726 22390.47379238\n",
      " 21451.51203918 16603.5235747  19320.66534933 20747.56674626\n",
      " 14945.57811427 24302.73398445 20907.7497665  19689.36500597\n",
      " 20214.71562665 22169.73572218 20785.20282603 17574.6005087\n",
      " 22220.57145926 18735.47375033 19633.1771427  19101.00752221\n",
      " 20767.66497576 21516.92373953 15262.51435226 20178.88528205\n",
      " 19573.40906006 22085.57336027 20219.82115537 22316.60606432\n",
      " 20784.87086148 20124.50497569 19789.61830112 24244.32395463\n",
      " 17065.95814376 20636.23555454 21656.63194416 20137.59180573\n",
      " 23355.22341679 12982.31816402 20093.45015002 20186.42333609\n",
      " 21772.73892131 20931.1837226  21301.65470298 -4452.66713156\n",
      " 20103.20270081 15231.77376422 20044.1689471  16357.16191007\n",
      " 19251.82034442 21375.47460502 -4963.77815062 20359.88743427\n",
      " 18947.62177721 21021.27046475 24590.228476   23062.89397663\n",
      " 24536.77169682 23557.90312092 16839.93178801 17636.91289259\n",
      " 20834.63616423 15106.83397524 22415.00670411 23009.8914338\n",
      " 21058.82310378 20391.81631659 13590.281501   15281.89476682\n",
      " 19145.00553649 20002.51962626 19475.47785278 16803.22789143\n",
      " 15862.24135294 20305.54812678 22736.15142679 21629.1579784\n",
      " 20807.22763369 22568.92291616 16106.07110795 16359.28933767\n",
      " 12318.36563073 21734.77686901 17934.23720464 16752.16854504\n",
      " 20409.83816331 23233.5327243  17968.59548962 15059.51861904\n",
      " 13019.81741949 20033.44939939 19620.43444655 13090.66933813\n",
      " 23549.77012949 18138.37396646 19470.78153099 22547.25405031\n",
      " 13967.82045077 19223.58802071 24960.51279561 22221.7307707\n",
      " 20993.9662796   8781.68934135 22316.88945714 20211.79989577\n",
      " 21176.88670886 10276.91409596 19570.9729198  20441.27969172\n",
      "   933.63816799 21570.03899316 21285.84142728 20228.00800277\n",
      " 10320.57160723 19220.47379464 21203.18710872 20800.9840128\n",
      " 18296.87653606 19340.34825469 20662.15284351 22537.75176708\n",
      " 21703.97578623  8808.71845199 23221.39758432 23816.1987549\n",
      " 18359.0409371  22481.55267676 19813.59993026 20220.35346205\n",
      " 23299.18795921  9743.25336331 21658.2501145  23933.36741646\n",
      " 23616.94044826 23686.76547515 14216.36384983 20733.50586859\n",
      " 11752.17286012 21848.60113555 20531.20574737 22116.35704184\n",
      " 18753.95322026 23164.2358606  20739.89114772 22281.28730401\n",
      " 23523.57486724  5946.52799857 22122.25138477 18928.05885078\n",
      " 13578.48385793 23517.86580677 17434.64242864 19087.38941192\n",
      " 19161.08926265 17825.73329552 23191.60610593 19252.48047005\n",
      " 18898.98937749  7981.26781237 21494.0508266  17855.50427421\n",
      " 18972.71529964 18346.2131013  22564.32049567 19882.45145802\n",
      " 21697.02943972 22162.65702004  6489.70350075 17126.52571992\n",
      "  3112.79912858 21341.22571313 23304.67262751 19402.222738\n",
      " 17388.82355289  7718.10446581 24636.73344615 19445.62896065\n",
      " 21246.32312779 20284.71286646 20945.31783831 16666.73647324\n",
      " 23161.16461933 22957.20754292 17810.35030816 21307.52511664\n",
      " 15493.37690976 21358.43069087 22421.03276798 21434.57628082\n",
      " 18391.55339832 19340.22935463 21802.52322571 17646.89981329\n",
      " 20080.35194212 -3178.1362666  23052.55582627 16756.71946311\n",
      " 20253.35167385 21028.59043327 10616.37704837 19145.19304807\n",
      " 22396.7983354  19776.58278555 20131.51202974  7988.21180223\n",
      " 16817.92995633 22985.87310526 21110.48345246 23698.06090227\n",
      " 16866.08838082 19276.0804244  18354.78221499 20519.92113123\n",
      " 23332.21455612 15241.21034468 18400.1826513  21893.13425489\n",
      " 21077.55767983 20703.10733421 22722.52023411 21315.57008514\n",
      " 18136.29398386 20426.93260447 16937.95161923 21927.52602893\n",
      " 22502.97386767 17806.0603164  17229.91326093 20288.17985624\n",
      " 18334.17736415  6772.11559485 20214.01210183 18108.50298966\n",
      " 24379.26256601 12514.34355453 20241.2909132  20033.09548468\n",
      " 19735.90112417 20155.34379591 -5435.87208518  3614.00471505\n",
      " 19130.9374414  12943.80282956 22721.65469575 24016.36498459\n",
      " 18208.81858702 21003.82839028 23041.8004215  20042.51826849\n",
      " 22298.71138157 23016.66249779 18386.0196956  19351.17344625\n",
      " 12147.85989698 12382.14700444 20331.10098212 19146.75705196\n",
      " 19783.59017449  5696.54138133 14949.28342381 23905.29036666\n",
      " 15043.65314751 21989.23474526 17066.92440421 21503.36504118\n",
      " 23809.09248276 12986.3326523   6874.16613059 21679.82694655\n",
      " 22297.36477233 21436.81953328 19719.7893713  19103.91383148\n",
      " 23096.00062031 20902.70735734 16510.19557349 20666.32423363\n",
      " 18744.78070283 20630.73889782  7008.69173244 21816.84150878\n",
      " 19175.6261305   7801.57303205 19982.98187903 11787.26871654\n",
      "  6393.64992288 18205.9153298  18849.18840263 20753.06064715\n",
      " 25374.02798262 21648.5789889   4269.48435041 22219.78430733\n",
      " 22593.3906256  14682.1042865  19708.88333389 19797.95111652\n",
      " 15120.53810693 19480.8785368  22436.2624363  22803.71325435\n",
      " 22408.613186   23828.85116634 18375.61927507 22344.88476671\n",
      " 23554.7896098  19962.66286974 19629.63098885 17696.86180712\n",
      " 14231.54773699 21271.89061519 24561.0137972  21375.68087152\n",
      " 24753.20714551 22484.52708476 20957.53184413 21215.21751999\n",
      " -1289.32915299 21786.26893909  9990.48609766 19992.50240711\n",
      " 20473.59229158 19744.88954737 19129.95849544 20190.98639868\n",
      " 19331.9181243  22888.14116009 21494.77769933 19935.4212831\n",
      " 18393.78185552 21484.31852256 20896.80998471 16273.50308133\n",
      " 19578.91422773 19598.05339577 11659.82238932 20022.56324919\n",
      " 20871.7031604   6098.88996958 18659.62779677 19460.17203206\n",
      " 17570.2938849  18463.36395973 18071.27225645 15549.90935113\n",
      "  7352.7492392  24729.02062593 24096.38826757 18357.11025758\n",
      " 22952.37712386 21547.02115198 19424.06510111 19853.67702812\n",
      " 19533.15478151 24795.5478475  21246.33707308 19935.54192725\n",
      " 31131.30144126 19664.09946535 21399.61862733 20979.93217197\n",
      " 18852.57377969 -8182.35410956 23843.91493627 17049.47480431\n",
      " 19188.31604802 21578.89773448 21228.4773976  18618.10154713\n",
      " 13540.25917252 20458.06217577 23464.39226533 11947.386193\n",
      "   130.89663856  6157.46684114  6106.47819336 14144.07480652\n",
      " 14278.84717949 19047.08848283 19651.70285999 20058.02809369\n",
      " 20096.59961661 19220.07372241 14812.07682924 24211.13021445\n",
      " 20955.0483671  19341.30991812 16808.16683859 20079.44750106\n",
      " 22565.02340503 21115.11997452 20237.5834761  20067.032995\n",
      "  5264.92565137 20120.66830291 21994.99830003 22533.0606415\n",
      " 17585.35769443 22318.84210371 20967.50726057 21480.58712484\n",
      " 18884.47254415 22691.95323987 19052.46922588 20329.61751585\n",
      " 23236.40407359 19580.45389496 19152.82176437 21272.69506646\n",
      " 24468.71275005 23711.54782381 16375.94053553 22291.78537139\n",
      " 22008.86604812 19162.02772276 11140.55815863 25576.72482238\n",
      " 16349.24591502 20441.96997559 20207.36260582 20812.26142414\n",
      " 21289.56989789 18873.7179147  20995.04831546 19870.73062278\n",
      " 20665.75090331 21678.38125634  3959.62627868 17369.89772275\n",
      " 24021.5935885  23480.21285945 21366.16061797 21614.74914252\n",
      " 20074.88767754 21558.36723447 16613.39092104 22119.74017565\n",
      " 20549.28478288 15902.55583902 18124.42196613 21249.72074601\n",
      " 21508.03785937  7334.31603835 17585.40354571 23578.94126649\n",
      " 20421.13502374 22803.24103022 23159.51430047 20665.78062367\n",
      " 20147.89245551]\n"
     ]
    }
   ],
   "source": [
    "from sklearn.linear_model import LinearRegression\n",
    "model = LinearRegression()\n",
    "model.fit(tr_x,tr_y)\n",
    "pred = model.predict(val_x)\n",
    "print(pred)"
   ]
  },
  {
   "cell_type": "code",
   "execution_count": 240,
   "metadata": {},
   "outputs": [
    {
     "data": {
      "text/plain": [
       "1384    13500\n",
       "620     24002\n",
       "107     18003\n",
       "1781    12100\n",
       "1592    39950\n",
       "        ...  \n",
       "1649    48400\n",
       "1027    15400\n",
       "1292    23500\n",
       "161     18500\n",
       "389      3760\n",
       "Name: price, Length: 625, dtype: int64"
      ]
     },
     "execution_count": 240,
     "metadata": {},
     "output_type": "execute_result"
    }
   ],
   "source": [
    "val_y"
   ]
  },
  {
   "cell_type": "code",
   "execution_count": 239,
   "metadata": {},
   "outputs": [
    {
     "name": "stdout",
     "output_type": "stream",
     "text": [
      "0.2295808938324967\n"
     ]
    }
   ],
   "source": [
    "from sklearn.metrics import r2_score\n",
    "compat = r2_score(val_y,pred)\n",
    "print(compat)"
   ]
  },
  {
   "cell_type": "code",
   "execution_count": null,
   "metadata": {},
   "outputs": [],
   "source": []
  }
 ],
 "metadata": {
  "kernelspec": {
   "display_name": "Python 3",
   "language": "python",
   "name": "python3"
  },
  "language_info": {
   "codemirror_mode": {
    "name": "ipython",
    "version": 3
   },
   "file_extension": ".py",
   "mimetype": "text/x-python",
   "name": "python",
   "nbconvert_exporter": "python",
   "pygments_lexer": "ipython3",
   "version": "3.12.4"
  }
 },
 "nbformat": 4,
 "nbformat_minor": 2
}
