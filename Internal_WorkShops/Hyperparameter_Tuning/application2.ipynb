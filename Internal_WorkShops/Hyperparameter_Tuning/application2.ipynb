{
 "cells": [
  {
   "cell_type": "code",
   "execution_count": 1,
   "metadata": {},
   "outputs": [],
   "source": [
    "import numpy as np\n",
    "from tensorflow.keras.models import Sequential\n",
    "from tensorflow.keras.layers import Dense\n",
    "from tensorflow.keras.optimizers import Adam\n",
    "from sklearn.model_selection import train_test_split\n",
    "from sklearn.datasets import load_digits\n",
    "from sklearn.preprocessing import StandardScaler\n",
    "from sklearn.metrics import accuracy_score"
   ]
  },
  {
   "cell_type": "code",
   "execution_count": 2,
   "metadata": {},
   "outputs": [],
   "source": [
    "# Load dataset (Digits dataset)\n",
    "digits = load_digits()\n",
    "X = digits.data\n",
    "y = digits.target"
   ]
  },
  {
   "cell_type": "code",
   "execution_count": 3,
   "metadata": {},
   "outputs": [],
   "source": [
    "# Preprocessing\n",
    "scaler = StandardScaler()\n",
    "X_scaled = scaler.fit_transform(X)"
   ]
  },
  {
   "cell_type": "code",
   "execution_count": 4,
   "metadata": {},
   "outputs": [],
   "source": [
    "# Split dataset\n",
    "X_train, X_test, y_train, y_test = train_test_split(X_scaled, y, test_size=0.2, random_state=42)"
   ]
  },
  {
   "cell_type": "code",
   "execution_count": 5,
   "metadata": {},
   "outputs": [],
   "source": [
    "# Function to build a simple neural network model\n",
    "def create_model(learning_rate=0.01, num_neurons=32):\n",
    "    model = Sequential([\n",
    "        Dense(num_neurons, input_dim=X_train.shape[1], activation='relu'),\n",
    "        Dense(10, activation='softmax')\n",
    "    ])\n",
    "    optimizer = Adam(learning_rate=learning_rate)\n",
    "    model.compile(optimizer=optimizer, loss='sparse_categorical_crossentropy', metrics=['accuracy'])\n",
    "    return model"
   ]
  },
  {
   "cell_type": "code",
   "execution_count": 6,
   "metadata": {},
   "outputs": [
    {
     "name": "stderr",
     "output_type": "stream",
     "text": [
      "C:\\Desktop\\Lib\\site-packages\\keras\\src\\layers\\core\\dense.py:86: UserWarning: Do not pass an `input_shape`/`input_dim` argument to a layer. When using Sequential models, prefer using an `Input(shape)` object as the first layer in the model instead.\n",
      "  super().__init__(activity_regularizer=activity_regularizer, **kwargs)\n"
     ]
    },
    {
     "name": "stdout",
     "output_type": "stream",
     "text": [
      "Accuracy before hyperparameter tuning: 97.78%\n"
     ]
    }
   ],
   "source": [
    "model_before_tuning = create_model()\n",
    "history_before = model_before_tuning.fit(X_train, y_train, epochs=20, batch_size=32, verbose=0, validation_split=0.2)\n",
    "accuracy_before = model_before_tuning.evaluate(X_test, y_test, verbose=0)[1]\n",
    "\n",
    "print(f\"Accuracy before hyperparameter tuning: {accuracy_before * 100:.2f}%\")"
   ]
  },
  {
   "cell_type": "code",
   "execution_count": 7,
   "metadata": {},
   "outputs": [],
   "source": [
    "learning_rates = [0.01, 0.001]\n",
    "batch_sizes = [16, 32]\n",
    "num_neurons_list = [32, 64]"
   ]
  },
  {
   "cell_type": "code",
   "execution_count": 8,
   "metadata": {},
   "outputs": [
    {
     "name": "stdout",
     "output_type": "stream",
     "text": [
      "Best hyperparameters: {'learning_rate': 0.01, 'batch_size': 32, 'num_neurons': 32}\n",
      "Accuracy after hyperparameter tuning: 98.33%\n"
     ]
    }
   ],
   "source": [
    "# Hyperparameter tuning using grid search\n",
    "def grid_search(X_train, y_train, X_test, y_test):\n",
    "    # Initialize best_accuracy to a very low value\n",
    "    best_accuracy = -float('inf')\n",
    "    best_params = {}\n",
    "\n",
    "    for lr in learning_rates:\n",
    "        for batch_size in batch_sizes:\n",
    "            for num_neurons in num_neurons_list:\n",
    "                model = create_model(learning_rate=lr, num_neurons=num_neurons)\n",
    "                history = model.fit(X_train, y_train, epochs=20, batch_size=batch_size, verbose=0, validation_split=0.2)\n",
    "                \n",
    "                # Evaluate on test set\n",
    "                accuracy = model.evaluate(X_test, y_test, verbose=0)[1]\n",
    "                \n",
    "                # Update best accuracy and parameters\n",
    "                if accuracy > best_accuracy:\n",
    "                    best_accuracy = accuracy\n",
    "                    best_params = {'learning_rate': lr, 'batch_size': batch_size, 'num_neurons': num_neurons}\n",
    "    \n",
    "    return best_params, best_accuracy\n",
    "\n",
    "# Call grid_search and pass test data\n",
    "best_params, accuracy_after = grid_search(X_train, y_train, X_test, y_test)\n",
    "\n",
    "print(f\"Best hyperparameters: {best_params}\")\n",
    "print(f\"Accuracy after hyperparameter tuning: {accuracy_after * 100:.2f}%\")\n"
   ]
  },
  {
   "cell_type": "code",
   "execution_count": null,
   "metadata": {},
   "outputs": [],
   "source": []
  }
 ],
 "metadata": {
  "kernelspec": {
   "display_name": "Python 3 (ipykernel)",
   "language": "python",
   "name": "python3"
  },
  "language_info": {
   "codemirror_mode": {
    "name": "ipython",
    "version": 3
   },
   "file_extension": ".py",
   "mimetype": "text/x-python",
   "name": "python",
   "nbconvert_exporter": "python",
   "pygments_lexer": "ipython3",
   "version": "3.12.3"
  }
 },
 "nbformat": 4,
 "nbformat_minor": 4
}
